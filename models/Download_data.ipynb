{
 "cells": [
  {
   "cell_type": "markdown",
   "source": [
    "# Downloading the data\n",
    "\n",
    "This notebook is used to download the ERA5 data from weatherbench2.\n"
   ],
   "metadata": {
    "collapsed": false
   },
   "id": "e36c99868a7ddece"
  },
  {
   "cell_type": "code",
   "outputs": [],
   "source": [
    "import xarray"
   ],
   "metadata": {
    "collapsed": false,
    "ExecuteTime": {
     "end_time": "2024-04-25T15:33:40.640694Z",
     "start_time": "2024-04-25T15:33:39.926699Z"
    }
   },
   "id": "2f5a14ed0c01d0d1",
   "execution_count": 1
  },
  {
   "cell_type": "code",
   "outputs": [
    {
     "name": "stdout",
     "output_type": "stream",
     "text": [
      "^C\n"
     ]
    }
   ],
   "source": [
    "!gcloud auth login"
   ],
   "metadata": {
    "collapsed": false,
    "ExecuteTime": {
     "end_time": "2024-04-25T15:35:02.278333Z",
     "start_time": "2024-04-25T15:33:48.351998Z"
    }
   },
   "id": "6df2770c08edee76",
   "execution_count": 2
  },
  {
   "cell_type": "code",
   "outputs": [],
   "source": [
    "!gsutil -m cp -r \"gs://weatherbench2/datasets/era5/1959-2022-6h-64x32_equiangular_conservative.zarr\" ./ERA5_data"
   ],
   "metadata": {
    "collapsed": false
   },
   "id": "65b816d50836f90"
  },
  {
   "cell_type": "code",
   "outputs": [],
   "source": [
    "with open('ERA5_data/1959-2022-6h-64x32_equiangular_conservative.zarr', 'rb') as f:\n",
    "    obs_data = xarray.load_dataset(f).compute()\n",
    "    \n",
    "obs_data"
   ],
   "metadata": {
    "collapsed": false
   },
   "id": "f3b185b4b491fadc"
  }
 ],
 "metadata": {
  "kernelspec": {
   "display_name": "Python 3",
   "language": "python",
   "name": "python3"
  },
  "language_info": {
   "codemirror_mode": {
    "name": "ipython",
    "version": 2
   },
   "file_extension": ".py",
   "mimetype": "text/x-python",
   "name": "python",
   "nbconvert_exporter": "python",
   "pygments_lexer": "ipython2",
   "version": "2.7.6"
  }
 },
 "nbformat": 4,
 "nbformat_minor": 5
}
