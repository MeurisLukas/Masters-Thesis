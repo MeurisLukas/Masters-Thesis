{
 "cells": [
  {
   "cell_type": "raw",
   "source": [],
   "metadata": {
    "collapsed": false
   },
   "id": "5aff3c3ced9e1322"
  },
  {
   "cell_type": "markdown",
   "source": [
    "# Master's thesis - Lukas Meuris - graphCast plotting\n",
    "\n",
    "This notebook contains the code to plot our models. \n"
   ],
   "metadata": {
    "collapsed": false
   },
   "id": "991daa1edd3629b3"
  },
  {
   "cell_type": "code",
   "outputs": [],
   "source": [
    "# @title Imports\n",
    "\n",
    "import dataclasses\n",
    "import datetime\n",
    "import functools\n",
    "import math\n",
    "import re\n",
    "from typing import Optional\n",
    "\n",
    "import cartopy.crs as ccrs\n",
    "from google.cloud import storage\n",
    "from graphcast import autoregressive\n",
    "from graphcast import casting\n",
    "from graphcast import checkpoint\n",
    "from graphcast import data_utils\n",
    "from graphcast import graphcast\n",
    "from graphcast import normalization\n",
    "from graphcast import rollout\n",
    "from graphcast import xarray_jax\n",
    "from graphcast import xarray_tree\n",
    "from IPython.display import HTML\n",
    "import ipywidgets as widgets\n",
    "import haiku as hk\n",
    "import jax\n",
    "import matplotlib\n",
    "import matplotlib.pyplot as plt\n",
    "from matplotlib import animation\n",
    "import numpy as np\n",
    "import xarray\n",
    "\n",
    "\n",
    "def parse_file_parts(file_name):\n",
    "  return dict(part.split(\"-\", 1) for part in file_name.split(\"_\"))"
   ],
   "metadata": {
    "collapsed": false,
    "ExecuteTime": {
     "end_time": "2024-04-12T08:37:18.147899Z",
     "start_time": "2024-04-12T08:37:13.191883Z"
    }
   },
   "id": "f13c12f3a5ba33b7",
   "execution_count": 3
  },
  {
   "cell_type": "code",
   "outputs": [],
   "source": [
    "# @title Authenticate with Google Cloud Storage\n",
    "\n",
    "gcs_client = storage.Client.create_anonymous_client()\n",
    "gcs_bucket = gcs_client.get_bucket(\"dm_graphcast\")"
   ],
   "metadata": {
    "collapsed": false,
    "ExecuteTime": {
     "end_time": "2024-04-12T08:37:18.642871Z",
     "start_time": "2024-04-12T08:37:18.150197Z"
    }
   },
   "id": "dc20e8b1a0a7fa6e",
   "execution_count": 4
  },
  {
   "cell_type": "code",
   "execution_count": 5,
   "id": "initial_id",
   "metadata": {
    "collapsed": true,
    "ExecuteTime": {
     "end_time": "2024-04-12T08:37:20.689206Z",
     "start_time": "2024-04-12T08:37:20.677929Z"
    }
   },
   "outputs": [],
   "source": [
    "# @title Plotting functions\n",
    "\n",
    "def select(\n",
    "    data: xarray.Dataset,\n",
    "    variable: str,\n",
    "    level: Optional[int] = None,\n",
    "    max_steps: Optional[int] = None\n",
    "    ) -> xarray.Dataset:\n",
    "  data = data[variable]\n",
    "  if \"batch\" in data.dims:\n",
    "    data = data.isel(batch=0)\n",
    "  if max_steps is not None and \"time\" in data.sizes and max_steps < data.sizes[\"time\"]:\n",
    "    data = data.isel(time=range(0, max_steps))\n",
    "  if level is not None and \"level\" in data.coords:\n",
    "    data = data.sel(level=level)\n",
    "  return data\n",
    "\n",
    "def scale(\n",
    "    data: xarray.Dataset,\n",
    "    center: Optional[float] = None,\n",
    "    robust: bool = False,\n",
    "    ) -> tuple[xarray.Dataset, matplotlib.colors.Normalize, str]:\n",
    "  vmin = np.nanpercentile(data, (2 if robust else 0))\n",
    "  vmax = np.nanpercentile(data, (98 if robust else 100))\n",
    "  if center is not None:\n",
    "    diff = max(vmax - center, center - vmin)\n",
    "    vmin = center - diff\n",
    "    vmax = center + diff\n",
    "  return (data, matplotlib.colors.Normalize(vmin, vmax),\n",
    "          (\"RdBu_r\" if center is not None else \"viridis\"))\n",
    "\n",
    "def plot_data(\n",
    "    data: dict[str, xarray.Dataset],\n",
    "    fig_title: str,\n",
    "    plot_size: float = 5,\n",
    "    robust: bool = False,\n",
    "    cols: int = 4\n",
    "    ) -> tuple[xarray.Dataset, matplotlib.colors.Normalize, str]:\n",
    "\n",
    "  first_data = next(iter(data.values()))[0]\n",
    "  max_steps = first_data.sizes.get(\"time\", 1)\n",
    "  assert all(max_steps == d.sizes.get(\"time\", 1) for d, _, _ in data.values())\n",
    "\n",
    "  cols = min(cols, len(data))\n",
    "  rows = math.ceil(len(data) / cols)\n",
    "  figure = plt.figure(figsize=(plot_size * 2 * cols,\n",
    "                               plot_size * rows))\n",
    "  figure.suptitle(fig_title, fontsize=16)\n",
    "  figure.subplots_adjust(wspace=0, hspace=0)\n",
    "  figure.tight_layout()\n",
    "\n",
    "  images = []\n",
    "  for i, (title, (plot_data, norm, cmap)) in enumerate(data.items()):\n",
    "    ax = figure.add_subplot(rows, cols, i+1)\n",
    "    ax.set_xticks([])\n",
    "    ax.set_yticks([])\n",
    "    ax.set_title(title)\n",
    "    im = ax.imshow(\n",
    "        plot_data.isel(time=0, missing_dims=\"ignore\"), norm=norm,\n",
    "        origin=\"lower\", cmap=cmap)\n",
    "    plt.colorbar(\n",
    "        mappable=im,\n",
    "        ax=ax,\n",
    "        orientation=\"vertical\",\n",
    "        pad=0.02,\n",
    "        aspect=16,\n",
    "        shrink=0.75,\n",
    "        cmap=cmap,\n",
    "        extend=(\"both\" if robust else \"neither\"))\n",
    "    images.append(im)\n",
    "\n",
    "  def update(frame):\n",
    "    if \"time\" in first_data.dims:\n",
    "      td = datetime.timedelta(microseconds=first_data[\"time\"][frame].item() / 1000)\n",
    "      figure.suptitle(f\"{fig_title}, {td}\", fontsize=16)\n",
    "    else:\n",
    "      figure.suptitle(fig_title, fontsize=16)\n",
    "    for im, (plot_data, norm, cmap) in zip(images, data.values()):\n",
    "      im.set_data(plot_data.isel(time=frame, missing_dims=\"ignore\"))\n",
    "\n",
    "  ani = animation.FuncAnimation(\n",
    "      fig=figure, func=update, frames=max_steps, interval=250)\n",
    "  plt.close(figure.number)\n",
    "  return HTML(ani.to_jshtml())"
   ]
  },
  {
   "cell_type": "markdown",
   "source": [
    "# Add models and run them.\n"
   ],
   "metadata": {
    "collapsed": false
   },
   "id": "d5dbbe8be6b6907e"
  },
  {
   "cell_type": "code",
   "outputs": [
    {
     "ename": "FrozenInstanceError",
     "evalue": "cannot assign to field 'description'",
     "output_type": "error",
     "traceback": [
      "\u001B[1;31m---------------------------------------------------------------------------\u001B[0m",
      "\u001B[1;31mFrozenInstanceError\u001B[0m                       Traceback (most recent call last)",
      "Cell \u001B[1;32mIn[17], line 16\u001B[0m\n\u001B[0;32m     10\u001B[0m     GCS \u001B[38;5;241m=\u001B[39m checkpoint\u001B[38;5;241m.\u001B[39mload(f, graphcast\u001B[38;5;241m.\u001B[39mCheckPoint)\n\u001B[0;32m     11\u001B[0m \u001B[38;5;66;03m#params = ckpt.params\u001B[39;00m\n\u001B[0;32m     12\u001B[0m \u001B[38;5;66;03m#state = {}\u001B[39;00m\n\u001B[0;32m     13\u001B[0m \n\u001B[0;32m     14\u001B[0m \u001B[38;5;66;03m#model_config = GCS.model_config\u001B[39;00m\n\u001B[0;32m     15\u001B[0m \u001B[38;5;66;03m#task_config = GCS.task_config\u001B[39;00m\n\u001B[1;32m---> 16\u001B[0m \u001B[43mGCS\u001B[49m\u001B[38;5;241;43m.\u001B[39;49m\u001B[43mdescription\u001B[49m \u001B[38;5;241m=\u001B[39m \u001B[38;5;124m\"\u001B[39m\u001B[38;5;124mtest\u001B[39m\u001B[38;5;124m\"\u001B[39m\n\u001B[0;32m     17\u001B[0m \u001B[38;5;28mprint\u001B[39m(\u001B[38;5;124m\"\u001B[39m\u001B[38;5;124mModel description:\u001B[39m\u001B[38;5;130;01m\\n\u001B[39;00m\u001B[38;5;124m\"\u001B[39m, GCS\u001B[38;5;241m.\u001B[39mdescription, \u001B[38;5;124m\"\u001B[39m\u001B[38;5;130;01m\\n\u001B[39;00m\u001B[38;5;124m\"\u001B[39m)\n\u001B[0;32m     18\u001B[0m \u001B[38;5;28mprint\u001B[39m(\u001B[38;5;124m\"\u001B[39m\u001B[38;5;124mModel license:\u001B[39m\u001B[38;5;130;01m\\n\u001B[39;00m\u001B[38;5;124m\"\u001B[39m, GCS\u001B[38;5;241m.\u001B[39mlicense, \u001B[38;5;124m\"\u001B[39m\u001B[38;5;130;01m\\n\u001B[39;00m\u001B[38;5;124m\"\u001B[39m)\n",
      "File \u001B[1;32m<string>:4\u001B[0m, in \u001B[0;36m__setattr__\u001B[1;34m(self, name, value)\u001B[0m\n",
      "\u001B[1;31mFrozenInstanceError\u001B[0m: cannot assign to field 'description'"
     ]
    }
   ],
   "source": [
    "# @title Load graphcast-small model\n",
    "\n",
    "params_file_options = [\n",
    "    name for blob in gcs_bucket.list_blobs(prefix=\"params/\")\n",
    "    if (name := blob.name.removeprefix(\"params/\"))]  # Drop empty string.\n",
    "\n",
    "params_file = params_file_options[2]\n",
    "\n",
    "with gcs_bucket.blob(f\"params/{params_file}\").open(\"rb\") as f:\n",
    "    GCS = checkpoint.load(f, graphcast.CheckPoint)\n",
    "#params = ckpt.params\n",
    "#state = {}\n",
    "\n",
    "#model_config = GCS.model_config\n",
    "#task_config = GCS.task_config\n",
    "print(\"Model description:\\n\", GCS.description, \"\\n\")\n",
    "print(\"Model license:\\n\", GCS.license, \"\\n\")\n",
    "\n",
    "GCS.model_config"
   ],
   "metadata": {
    "collapsed": false,
    "ExecuteTime": {
     "end_time": "2024-04-12T08:59:25.239944Z",
     "start_time": "2024-04-12T08:58:23.573960Z"
    }
   },
   "id": "670edcbd99dd4ba8",
   "execution_count": 17
  },
  {
   "cell_type": "code",
   "outputs": [],
   "source": [
    "with open('models/models_graphcast_small.npz', 'wb') as file:\n",
    "    # Call the dump function to save data to the file\n",
    "    checkpoint.dump(file, GCS)\n"
   ],
   "metadata": {
    "collapsed": false,
    "ExecuteTime": {
     "end_time": "2024-04-12T08:52:16.761981Z",
     "start_time": "2024-04-12T08:52:16.071741Z"
    }
   },
   "id": "583e9951492aa1ee",
   "execution_count": 14
  },
  {
   "cell_type": "code",
   "outputs": [
    {
     "data": {
      "text/plain": "ModelConfig(resolution=1.0, mesh_size=5, latent_size=512, gnn_msg_steps=16, hidden_layers=1, radius_query_fraction_edge_length=0.6, mesh2grid_edge_normalization_factor=0.6180338738074472)"
     },
     "execution_count": 16,
     "metadata": {},
     "output_type": "execute_result"
    }
   ],
   "source": [
    "# @title Load model_test_mse\n",
    "model = checkpoint.load(\"models/models_graphcast_small.npz\", graphcast.CheckPoint)\n",
    "\n",
    "model.model_config"
   ],
   "metadata": {
    "collapsed": false,
    "ExecuteTime": {
     "end_time": "2024-04-12T08:53:28.123983Z",
     "start_time": "2024-04-12T08:53:27.945005Z"
    }
   },
   "id": "95b17e5f03471c16",
   "execution_count": 16
  },
  {
   "cell_type": "markdown",
   "source": [
    "# Plot models\n"
   ],
   "metadata": {
    "collapsed": false
   },
   "id": "6710bc7e9d64f7d9"
  },
  {
   "cell_type": "code",
   "outputs": [],
   "source": [
    "# @title Choose predictions to plot\n",
    "\n",
    "plot_pred_variable = widgets.Dropdown(\n",
    "    options=predictions.data_vars.keys(),\n",
    "    value=\"2m_temperature\",\n",
    "    description=\"Variable\")\n",
    "plot_pred_level = widgets.Dropdown(\n",
    "    options=predictions.coords[\"level\"].values,\n",
    "    value=500,\n",
    "    description=\"Level\")\n",
    "plot_pred_robust = widgets.Checkbox(value=True, description=\"Robust\")\n",
    "plot_pred_max_steps = widgets.IntSlider(\n",
    "    min=1,\n",
    "    max=predictions.sizes[\"time\"],\n",
    "    value=predictions.sizes[\"time\"],\n",
    "    description=\"Max steps\")\n",
    "\n",
    "widgets.VBox([\n",
    "    plot_pred_variable,\n",
    "    plot_pred_level,\n",
    "    plot_pred_robust,\n",
    "    plot_pred_max_steps,\n",
    "    widgets.Label(value=\"Run the next cell to plot the predictions. Rerunning this cell clears your selection.\")\n",
    "])"
   ],
   "metadata": {
    "collapsed": false
   },
   "id": "28c2b840b447af7e"
  },
  {
   "cell_type": "code",
   "outputs": [],
   "source": [
    "# @title Plot predictions\n",
    "\n",
    "plot_size = 3\n",
    "plot_max_steps = min(predictions.sizes[\"time\"], plot_pred_max_steps.value)\n",
    "\n",
    "data = {\n",
    "    \"Targets\": scale(select(eval_targets, plot_pred_variable.value, plot_pred_level.value, plot_max_steps), robust=plot_pred_robust.value),\n",
    "    \"Predictions\": scale(select(predictions, plot_pred_variable.value, plot_pred_level.value, plot_max_steps), robust=plot_pred_robust.value),\n",
    "    \"Diff\": scale((select(eval_targets, plot_pred_variable.value, plot_pred_level.value, plot_max_steps) -\n",
    "                        select(predictions, plot_pred_variable.value, plot_pred_level.value, plot_max_steps)),\n",
    "                       robust=plot_pred_robust.value, center=0),\n",
    "}\n",
    "fig_title = plot_pred_variable.value\n",
    "if \"level\" in predictions[plot_pred_variable.value].coords:\n",
    "  fig_title += f\" at {plot_pred_level.value} hPa\"\n",
    "\n",
    "plot_data(data, fig_title, plot_size, plot_pred_robust.value)"
   ],
   "metadata": {
    "collapsed": false
   },
   "id": "f0dbb2765a6923c3"
  }
 ],
 "metadata": {
  "kernelspec": {
   "display_name": "Python 3",
   "language": "python",
   "name": "python3"
  },
  "language_info": {
   "codemirror_mode": {
    "name": "ipython",
    "version": 2
   },
   "file_extension": ".py",
   "mimetype": "text/x-python",
   "name": "python",
   "nbconvert_exporter": "python",
   "pygments_lexer": "ipython2",
   "version": "2.7.6"
  }
 },
 "nbformat": 4,
 "nbformat_minor": 5
}
