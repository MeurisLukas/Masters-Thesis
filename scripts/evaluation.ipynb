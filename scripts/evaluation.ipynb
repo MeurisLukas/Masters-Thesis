{
 "cells": [
  {
   "cell_type": "markdown",
   "id": "1af0258ff4807698",
   "metadata": {
    "collapsed": false,
    "jupyter": {
     "outputs_hidden": false
    }
   },
   "source": [
    "# Master's thesis - Lukas Meuris - evaluation\n",
    "\n",
    "This notebook contains the code to evaluate the models. \n"
   ]
  },
  {
   "cell_type": "code",
   "execution_count": null,
   "id": "a7f7ca08fe9b53bd",
   "metadata": {
    "ExecuteTime": {
     "end_time": "2024-04-25T13:50:17.513104Z",
     "start_time": "2024-04-25T13:48:38.182381Z"
    },
    "collapsed": false,
    "jupyter": {
     "outputs_hidden": false
    }
   },
   "outputs": [],
   "source": [
    "#!pip install git+https://github.com/google-research/weatherbench2.git"
   ]
  },
  {
   "cell_type": "code",
   "execution_count": null,
   "id": "7764a3b55d3e06f1",
   "metadata": {
    "ExecuteTime": {
     "end_time": "2024-04-25T14:07:43.560784Z",
     "start_time": "2024-04-25T14:07:43.555590Z"
    },
    "collapsed": false,
    "jupyter": {
     "outputs_hidden": false
    }
   },
   "outputs": [],
   "source": [
    "import sys\n",
    "sys.path.append(\"../\")\n",
    "\n",
    "import numpy as np\n",
    "import pandas as pd\n",
    "import xarray as xr\n",
    "import cartopy.crs as ccrs\n",
    "\n",
    "import optax\n",
    "\n",
    "import os\n",
    "import time\n",
    "os.environ['CUDA_VISIBLE_DEVICES'] = '0,1'\n",
    "\n",
    "import weatherbench2\n",
    "from weatherbench2 import config\n",
    "\n",
    "import matplotlib.pyplot as plt"
   ]
  },
  {
   "cell_type": "markdown",
   "id": "69841fb918a6d1ab",
   "metadata": {
    "collapsed": false,
    "jupyter": {
     "outputs_hidden": false
    }
   },
   "source": [
    "# Specify input datasets\n",
    "\n",
    "in this section we select the data need for the evaluation:\n",
    "- obs_data: the ERA5 data, which will be used as a ground truth to compare to.\n",
    "- pred_data: the forecast data to be evaluated. the WB2 evaluation API expects the dims as 'latitude' and 'longitude' so this needs to be changed back.\n",
    "- climatology: used in some evaluations."
   ]
  },
  {
   "cell_type": "code",
   "execution_count": null,
   "id": "e521ea2aa2824573",
   "metadata": {
    "ExecuteTime": {
     "end_time": "2024-04-12T12:03:10.780183Z",
     "start_time": "2024-04-12T12:03:09.945192Z"
    },
    "collapsed": false,
    "jupyter": {
     "outputs_hidden": false
    }
   },
   "outputs": [],
   "source": [
    "# load obs data:\n",
    "relative_path = \"ERA5_data/1959-2022-6h-64x32_equiangular_conservative.zarr\"\n",
    "obs_path = os.path.join(os.path.dirname(os.getcwd()), relative_path)"
   ]
  },
  {
   "cell_type": "code",
   "execution_count": null,
   "id": "1fcb94d6-2df2-4d82-8b6b-1693d503523c",
   "metadata": {},
   "outputs": [],
   "source": [
    "# load forecast data:\n",
    "# \"\"\"!change predictions path\"\"\"\n",
    "# relative_path = \"predictions/pred_64x32_2020_mae.zarr\"\n",
    "# pred_path = os.path.join(os.path.dirname(os.getcwd()), relative_path)\n",
    "# pred_data = xr.open_zarr(pred_path)\n",
    "# pred_data = pred_data.rename({'lon': 'longitude','lat': 'latitude'}) # rename the dimentions.\n",
    "# pred_data"
   ]
  },
  {
   "cell_type": "code",
   "execution_count": null,
   "id": "29353721-d342-4d7e-996a-f6b12012692e",
   "metadata": {},
   "outputs": [],
   "source": [
    "\"\"\"!change predictions path\"\"\"\n",
    "relative_path = \"predictions/pred_64x32_2020_mae_eval.zarr\"\n",
    "pred_path = os.path.join(os.path.dirname(os.getcwd()), relative_path)\n",
    "# pred_data.to_zarr(pred_path, mode='w') # changed data needs to be written to a different file to avoid corrupting the data."
   ]
  },
  {
   "cell_type": "code",
   "execution_count": null,
   "id": "9e6cc6d0-d651-443a-b278-f4bbbd715f01",
   "metadata": {},
   "outputs": [],
   "source": [
    "# load climatology:\n",
    "relative_path = \"ERA5_data/climatology.zarr\"\n",
    "climatology_path = os.path.join(os.path.dirname(os.getcwd()), relative_path)\n",
    "climatology = xr.open_zarr(climatology_path)"
   ]
  },
  {
   "cell_type": "markdown",
   "id": "4db47f826c40c4a1",
   "metadata": {
    "collapsed": false,
    "jupyter": {
     "outputs_hidden": false
    }
   },
   "source": [
    "# Set up WeatherBench configuration\n",
    "\n",
    "Next, we will define a bunch of configuration instances to specify exactly what we want to evaluate."
   ]
  },
  {
   "cell_type": "markdown",
   "id": "7d62a706ffb17568",
   "metadata": {
    "collapsed": false,
    "jupyter": {
     "outputs_hidden": false
    }
   },
   "source": [
    "## data configuration\n",
    "The file paths are defined in a Paths config object, alongside an output directory:"
   ]
  },
  {
   "cell_type": "code",
   "execution_count": null,
   "id": "7aeddeb6772d7d3a",
   "metadata": {
    "collapsed": false,
    "jupyter": {
     "outputs_hidden": false
    }
   },
   "outputs": [],
   "source": [
    "paths = config.Paths(\n",
    "    forecast=pred_path,\n",
    "    obs=obs_path,\n",
    "    output_dir='../evaluation/',   # Directory to save evaluation results\n",
    ")"
   ]
  },
  {
   "cell_type": "markdown",
   "id": "537ce18ee72fddfd",
   "metadata": {
    "collapsed": false,
    "jupyter": {
     "outputs_hidden": false
    }
   },
   "source": [
    "In addition, we specify a Selection object that selects the variables and time period to be evaluated."
   ]
  },
  {
   "cell_type": "code",
   "execution_count": null,
   "id": "633ea44d29fc2649",
   "metadata": {
    "collapsed": false,
    "jupyter": {
     "outputs_hidden": false
    }
   },
   "outputs": [],
   "source": [
    "selection = config.Selection(\n",
    "    variables=[\n",
    "        'geopotential',\n",
    "        'temperature',\n",
    "        'u_component_of_wind',\n",
    "        'v_component_of_wind',\n",
    "        '2m_temperature',\n",
    "        '10m_u_component_of_wind',\n",
    "        '10m_v_component_of_wind',\n",
    "        'total_precipitation_6hr',\n",
    "    ],\n",
    "    levels=[500, 700, 850],\n",
    "    time_slice=slice('2020-01-01', '2020-12-31'), #year 2020.\n",
    ")"
   ]
  },
  {
   "cell_type": "markdown",
   "id": "cfd4486e34882cab",
   "metadata": {
    "collapsed": false,
    "jupyter": {
     "outputs_hidden": false
    }
   },
   "source": [
    "Together they make up the Data config:"
   ]
  },
  {
   "cell_type": "code",
   "execution_count": null,
   "id": "59c37b80fce7f4b1",
   "metadata": {
    "collapsed": false,
    "jupyter": {
     "outputs_hidden": false
    }
   },
   "outputs": [],
   "source": [
    "data_config = config.Data(selection=selection, paths=paths)"
   ]
  },
  {
   "cell_type": "markdown",
   "id": "215bf3d1-903c-4c7c-ab40-24160158f4ba",
   "metadata": {},
   "source": [
    "## selecting regions\n",
    "we select the regions for which we want to do the evaluation.\n",
    "here we split the regions in three separature groups (global, land1 and land2).\n",
    "We do this to reduce the memory usage, because the evaluation is done completely in memory. \n",
    "                    "
   ]
  },
  {
   "cell_type": "code",
   "execution_count": null,
   "id": "23e18aa3-6a10-46d2-8eba-0bd2c9360ace",
   "metadata": {},
   "outputs": [],
   "source": [
    "from weatherbench2.regions import SliceRegion, LandRegion\n",
    "\n",
    "land_sea_mask = xr.open_zarr(obs_path)['land_sea_mask'].compute()\n",
    "# Default regions\n",
    "\n",
    "global_region = {\n",
    "      'global': SliceRegion(),\n",
    "} \n",
    "\n",
    "land_regions1 = {\n",
    "      'global_land': LandRegion(land_sea_mask=land_sea_mask),\n",
    "      'europe': SliceRegion(\n",
    "          lat_slice=slice(35, 75),\n",
    "          lon_slice=[slice(360 - 12.5, None), slice(0, 42.5)],\n",
    "      ),\n",
    "      'north-america': SliceRegion(\n",
    "          lat_slice=slice(25, 60), lon_slice=slice(360 - 120, 360 - 75)\n",
    "      ),\n",
    "}\n",
    "land_regions2 = {\n",
    "      'south-america': SliceRegion(\n",
    "          lat_slice=slice(-55, 15), lon_slice=slice(285, 330)\n",
    "      ),\n",
    "      'asia': SliceRegion(\n",
    "          lat_slice=slice(5, 60), lon_slice=slice(60, 150)\n",
    "      ),\n",
    "      'africa': SliceRegion(\n",
    "          lat_slice=slice(-35, 37), lon_slice=slice(-20, 52.5)\n",
    "      ),\n",
    "      'ausnz': SliceRegion(\n",
    "          lat_slice=slice(-45, -12.5), lon_slice=slice(120, 175)\n",
    "      ),\n",
    "  }"
   ]
  },
  {
   "cell_type": "markdown",
   "id": "c2c3e49531a6910c",
   "metadata": {
    "collapsed": false,
    "jupyter": {
     "outputs_hidden": false
    }
   },
   "source": [
    "#### Evaluation configuration\n",
    "\n",
    "Next, we can define which evaluation we want to run. To do so, we can define a dictionary of `config.Eval`s, each of which will be evaluated separately and saved to a different file. Eval instances contain the metrics objects, defined in metrics.py.\n",
    "\n",
    "Note that for ACC, we additionally need to pass the climatology opened earlier.\n"
   ]
  },
  {
   "cell_type": "code",
   "execution_count": null,
   "id": "0d652482-af47-45c8-adc1-01199f89d70a",
   "metadata": {},
   "outputs": [],
   "source": [
    "#define a wind vector error based on the U/V components of the wind.\n",
    "from weatherbench2.metrics import WindVectorMSE, WindVectorRMSESqrtBeforeTimeAvg\n",
    "\n",
    "def _wind_vector_error(err_type: str):\n",
    "  \"\"\"Defines Wind Vector [R]MSEs if U/V components are in variables.\"\"\"\n",
    "  if err_type == 'mse':\n",
    "    cls = WindVectorMSE\n",
    "  elif err_type == 'rmse':\n",
    "    cls = WindVectorRMSESqrtBeforeTimeAvg\n",
    "  else:\n",
    "    raise ValueError(f'Unrecognized {err_type=}')\n",
    "  wind_vector_error = []\n",
    "  for u_name, v_name, vector_name in [\n",
    "      ('u_component_of_wind', 'v_component_of_wind', 'wind_vector'),\n",
    "      ('10m_u_component_of_wind', '10m_v_component_of_wind', '10m_wind_vector'),\n",
    "  ]:\n",
    "    wind_vector_error.append(\n",
    "        cls(\n",
    "            u_name=u_name,\n",
    "            v_name=v_name,\n",
    "            vector_name=vector_name,\n",
    "        )\n",
    "    )\n",
    "  return wind_vector_error\n"
   ]
  },
  {
   "cell_type": "code",
   "execution_count": null,
   "id": "5845764fb8e300da",
   "metadata": {
    "collapsed": false,
    "jupyter": {
     "outputs_hidden": false
    }
   },
   "outputs": [],
   "source": [
    "# define which metrics to evaluate.\n",
    "from weatherbench2.metrics import MSE, ACC, Bias, MAE, SpatialBias, SpatialMSE, SpatialMAE, SEEPS, SpatialSEEPS\n",
    "\n",
    "deterministic_metrics={\n",
    "      'mse': MSE(wind_vector_mse=_wind_vector_error('mse')),\n",
    "      'acc': ACC(climatology=climatology),\n",
    "      'bias': Bias(),\n",
    "}\n",
    "spatial_metrics = {\n",
    "      'bias': SpatialBias(),\n",
    "}\n",
    "\n",
    "deterministic_metrics['seeps_6hr'] = SEEPS(\n",
    "    climatology=climatology,\n",
    "    precip_name='total_precipitation_6hr',\n",
    "    dry_threshold_mm=0.1,\n",
    ")"
   ]
  },
  {
   "cell_type": "code",
   "execution_count": null,
   "id": "fd5301a3-d0d9-4b52-a06c-680165f39f1d",
   "metadata": {},
   "outputs": [],
   "source": [
    "#define the evaluation configurations\n",
    "\"\"\"!change save path\"\"\"\n",
    "eval_configs = {\n",
    "  'mae_det_global': config.Eval(\n",
    "      metrics=deterministic_metrics,\n",
    "      regions=global_region,\n",
    "      evaluate_persistence=False),\n",
    "   'mae_det_land1': config.Eval(\n",
    "      metrics=deterministic_metrics,\n",
    "      regions=land_regions1,\n",
    "      evaluate_persistence=False),\n",
    "    'mae_det_land2': config.Eval(\n",
    "      metrics=deterministic_metrics,\n",
    "      regions=land_regions2,\n",
    "      evaluate_persistence=False),\n",
    "   'mae_spatial': config.Eval(\n",
    "      metrics=spatial_metrics,\n",
    "      evaluate_persistence=False,\n",
    "      output_format='zarr')\n",
    "}"
   ]
  },
  {
   "cell_type": "markdown",
   "id": "2712767bdbdac2ec",
   "metadata": {
    "collapsed": false,
    "jupyter": {
     "outputs_hidden": false
    }
   },
   "source": [
    "### Evaluate\n",
    "\n",
    "Now, we can run the evaluation, this is done in memory, so may take up a lot of memory."
   ]
  },
  {
   "cell_type": "code",
   "execution_count": null,
   "id": "77f7ff72e06a6665",
   "metadata": {
    "collapsed": false,
    "jupyter": {
     "outputs_hidden": false
    }
   },
   "outputs": [],
   "source": [
    "from weatherbench2.evaluation import evaluate_in_memory\n",
    "\n",
    "evaluate_in_memory(data_config, eval_configs)   # Takes some time."
   ]
  },
  {
   "cell_type": "markdown",
   "id": "4b9c1d14-50e4-48de-9240-41e8f55887ce",
   "metadata": {},
   "source": [
    "Earlier we separated the regions to save on memory,\n",
    "now they will be concatenated together again."
   ]
  },
  {
   "cell_type": "code",
   "execution_count": null,
   "id": "7bb3de24-fda8-4328-bc35-6dfa9fa8f9b2",
   "metadata": {},
   "outputs": [],
   "source": [
    "# concat the deterministic evaluations:\n",
    "det_global = xr.open_dataset('../evaluation/mae_det_global.nc')\n",
    "det_land1 = xr.open_dataset('../evaluation/mae_det_land1.nc')\n",
    "det_land2 = xr.open_dataset('../evaluation/mae_det_land2.nc')\n",
    "\n",
    "det_global = xr.concat([det_global,det_land1], dim='region')\n",
    "det_global = xr.concat([det_global,det_land2], dim='region')\n",
    "\n",
    "\"\"\"!change save path\"\"\"\n",
    "#write to file\n",
    "relative_path = \"evaluation/mae_det.nc\"\n",
    "pred_path = os.path.join(os.path.dirname(os.getcwd()), relative_path)\n",
    "det_global.to_netcdf(pred_path, mode='w')\n"
   ]
  }
 ],
 "metadata": {
  "kernelspec": {
   "display_name": "MTLMenv",
   "language": "python",
   "name": "mtlmenv"
  },
  "language_info": {
   "codemirror_mode": {
    "name": "ipython",
    "version": 3
   },
   "file_extension": ".py",
   "mimetype": "text/x-python",
   "name": "python",
   "nbconvert_exporter": "python",
   "pygments_lexer": "ipython3",
   "version": "3.12.3"
  }
 },
 "nbformat": 4,
 "nbformat_minor": 5
}
