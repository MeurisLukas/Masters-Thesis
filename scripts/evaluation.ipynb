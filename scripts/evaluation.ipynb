{
 "cells": [
  {
   "cell_type": "markdown",
   "id": "1af0258ff4807698",
   "metadata": {
    "collapsed": false,
    "jupyter": {
     "outputs_hidden": false
    }
   },
   "source": [
    "# Master's thesis - Lukas Meuris - graphCast evaluation\n",
    "\n",
    "This notebook contains the code to evaluate the models. \n"
   ]
  },
  {
   "cell_type": "code",
   "execution_count": null,
   "id": "a7f7ca08fe9b53bd",
   "metadata": {
    "ExecuteTime": {
     "end_time": "2024-04-25T13:50:17.513104Z",
     "start_time": "2024-04-25T13:48:38.182381Z"
    },
    "collapsed": false,
    "jupyter": {
     "outputs_hidden": false
    }
   },
   "outputs": [],
   "source": [
    "#!pip install git+https://github.com/google-research/weatherbench2.git"
   ]
  },
  {
   "cell_type": "code",
   "execution_count": 1,
   "id": "7764a3b55d3e06f1",
   "metadata": {
    "ExecuteTime": {
     "end_time": "2024-04-25T14:07:43.560784Z",
     "start_time": "2024-04-25T14:07:43.555590Z"
    },
    "collapsed": false,
    "jupyter": {
     "outputs_hidden": false
    }
   },
   "outputs": [],
   "source": [
    "import sys\n",
    "sys.path.append(\"../\")\n",
    "\n",
    "import numpy as np\n",
    "import pandas as pd\n",
    "import xarray as xr\n",
    "\n",
    "import optax\n",
    "\n",
    "import os\n",
    "import time\n",
    "os.environ['CUDA_VISIBLE_DEVICES'] = '0,1'\n",
    "\n",
    "import weatherbench2\n",
    "from weatherbench2 import config\n",
    "\n",
    "import matplotlib.pyplot as plt"
   ]
  },
  {
   "cell_type": "markdown",
   "id": "69841fb918a6d1ab",
   "metadata": {
    "collapsed": false,
    "jupyter": {
     "outputs_hidden": false
    }
   },
   "source": [
    "# Specify input datasets\n",
    "\n"
   ]
  },
  {
   "cell_type": "code",
   "execution_count": null,
   "id": "e521ea2aa2824573",
   "metadata": {
    "ExecuteTime": {
     "end_time": "2024-04-12T12:03:10.780183Z",
     "start_time": "2024-04-12T12:03:09.945192Z"
    },
    "collapsed": false,
    "jupyter": {
     "outputs_hidden": false
    }
   },
   "outputs": [],
   "source": [
    "# load obs data:\n",
    "relative_path = \"ERA5_data/1959-2022-6h-64x32_equiangular_conservative.zarr\"\n",
    "obs_path = os.path.join(os.path.dirname(os.getcwd()), relative_path)\n",
    "# obs_data = xr.open_zarr(obs_path)\n",
    "# obs_data"
   ]
  },
  {
   "cell_type": "code",
   "execution_count": null,
   "id": "1fcb94d6-2df2-4d82-8b6b-1693d503523c",
   "metadata": {},
   "outputs": [],
   "source": [
    "#load forecast data:\n",
    "# \"\"\"!change predictions path\"\"\"\n",
    "# relative_path = \"predictions/pred_64x32_2020_mae2.zarr\"\n",
    "# pred_path = os.path.join(os.path.dirname(os.getcwd()), relative_path)\n",
    "# pred_data = xr.open_zarr(pred_path)\n",
    "# pred_data = pred_data.rename({'lon': 'longitude','lat': 'latitude'})"
   ]
  },
  {
   "cell_type": "code",
   "execution_count": null,
   "id": "29353721-d342-4d7e-996a-f6b12012692e",
   "metadata": {},
   "outputs": [],
   "source": [
    "\"\"\"!change predictions path\"\"\"\n",
    "relative_path = \"predictions/pred_64x32_2020_mae_eval.zarr\"\n",
    "pred_path = os.path.join(os.path.dirname(os.getcwd()), relative_path)\n",
    "# pred_data.to_zarr(pred_path, mode='w')\n",
    "# pred_data"
   ]
  },
  {
   "cell_type": "code",
   "execution_count": null,
   "id": "9e6cc6d0-d651-443a-b278-f4bbbd715f01",
   "metadata": {},
   "outputs": [],
   "source": [
    "# load climatology:\n",
    "relative_path = \"ERA5_data/climatology.zarr\"\n",
    "climatology_path = os.path.join(os.path.dirname(os.getcwd()), relative_path)\n",
    "climatology = xr.open_zarr(climatology_path)"
   ]
  },
  {
   "cell_type": "markdown",
   "id": "4db47f826c40c4a1",
   "metadata": {
    "collapsed": false,
    "jupyter": {
     "outputs_hidden": false
    }
   },
   "source": [
    "# Set up WeatherBench configuration\n",
    "\n",
    "Next, we will define a bunch of configuration instances to specify exactly what we want to evaluate."
   ]
  },
  {
   "cell_type": "markdown",
   "id": "7d62a706ffb17568",
   "metadata": {
    "collapsed": false,
    "jupyter": {
     "outputs_hidden": false
    }
   },
   "source": [
    "## data configuration\n",
    "The file paths are defined in a Paths config object, alongside an output directory:"
   ]
  },
  {
   "cell_type": "code",
   "execution_count": null,
   "id": "7aeddeb6772d7d3a",
   "metadata": {
    "collapsed": false,
    "jupyter": {
     "outputs_hidden": false
    }
   },
   "outputs": [],
   "source": [
    "paths = config.Paths(\n",
    "    forecast=pred_path,\n",
    "    obs=obs_path,\n",
    "    output_dir='../evaluation/',   # Directory to save evaluation results\n",
    ")"
   ]
  },
  {
   "cell_type": "markdown",
   "id": "537ce18ee72fddfd",
   "metadata": {
    "collapsed": false,
    "jupyter": {
     "outputs_hidden": false
    }
   },
   "source": [
    "In addition, we specify a Selection object that selects the variables and time period to be evaluated."
   ]
  },
  {
   "cell_type": "code",
   "execution_count": null,
   "id": "633ea44d29fc2649",
   "metadata": {
    "collapsed": false,
    "jupyter": {
     "outputs_hidden": false
    }
   },
   "outputs": [],
   "source": [
    "selection = config.Selection(\n",
    "    variables=[\n",
    "        'geopotential',\n",
    "        'temperature',\n",
    "        'u_component_of_wind',\n",
    "        'v_component_of_wind',\n",
    "        'specific_humidity',\n",
    "        '2m_temperature',\n",
    "        'mean_sea_level_pressure',\n",
    "    ],\n",
    "    levels=[500, 700, 850],\n",
    "    time_slice=slice('2020-01-01', '2020-12-31'),\n",
    ")"
   ]
  },
  {
   "cell_type": "markdown",
   "id": "cfd4486e34882cab",
   "metadata": {
    "collapsed": false,
    "jupyter": {
     "outputs_hidden": false
    }
   },
   "source": [
    "Together they make up the Data config:"
   ]
  },
  {
   "cell_type": "code",
   "execution_count": null,
   "id": "59c37b80fce7f4b1",
   "metadata": {
    "collapsed": false,
    "jupyter": {
     "outputs_hidden": false
    }
   },
   "outputs": [],
   "source": [
    "data_config = config.Data(selection=selection, paths=paths)"
   ]
  },
  {
   "cell_type": "code",
   "execution_count": null,
   "id": "23e18aa3-6a10-46d2-8eba-0bd2c9360ace",
   "metadata": {},
   "outputs": [],
   "source": [
    "from weatherbench2.regions import SliceRegion, ExtraTropicalRegion\n",
    "\n",
    "# Default regions\n",
    "predefined_regions = {\n",
    "      'global': SliceRegion(),\n",
    "      'tropics': SliceRegion(lat_slice=slice(-20, 20)),\n",
    "      'extra-tropics': SliceRegion(\n",
    "          lat_slice=[slice(None, -20), slice(20, None)]\n",
    "      ),\n",
    "      'northern-hemisphere': SliceRegion(lat_slice=slice(20, None)),\n",
    "      'southern-hemisphere': SliceRegion(lat_slice=slice(None, -20)),\n",
    "      # 'europe': SliceRegion(\n",
    "      #     lat_slice=slice(35, 75),\n",
    "      #     lon_slice=[slice(360 - 12.5, None), slice(0, 42.5)],\n",
    "      # ),\n",
    "      # 'north-america': SliceRegion(\n",
    "      #     lat_slice=slice(25, 60), lon_slice=slice(360 - 120, 360 - 75)\n",
    "      # ),\n",
    "      # 'north-atlantic': SliceRegion(\n",
    "      #     lat_slice=slice(25, 65), lon_slice=slice(360 - 70, 360 - 10)\n",
    "      # ),\n",
    "      # 'north-pacific': SliceRegion(\n",
    "      #     lat_slice=slice(25, 60), lon_slice=slice(145, 360 - 130)\n",
    "      # ),\n",
    "      # 'east-asia': SliceRegion(\n",
    "      #     lat_slice=slice(25, 60), lon_slice=slice(102.5, 150)\n",
    "      # ),\n",
    "      # 'ausnz': SliceRegion(\n",
    "      #     lat_slice=slice(-45, -12.5), lon_slice=slice(120, 175)\n",
    "      # ),\n",
    "      # 'arctic': SliceRegion(lat_slice=slice(60, 90)),\n",
    "      # 'antarctic': SliceRegion(lat_slice=slice(-90, -60)),\n",
    "  }"
   ]
  },
  {
   "cell_type": "markdown",
   "id": "c2c3e49531a6910c",
   "metadata": {
    "collapsed": false,
    "jupyter": {
     "outputs_hidden": false
    }
   },
   "source": [
    "#### Evaluation configuration\n",
    "\n",
    "Next, we can defined which evaluation we want to run. To do so, we can define a dictionary of `config.Eval`s, each of which will be evaluated separately and saved to a different file. Eval instances contain the metrics objects, defined in metrics.py.\n",
    "\n",
    "Note that for ACC, we additionally need to pass the climatology opened earlier.\n",
    "\n",
    "The evaluation configs also have an option to evaluate particular regions, such as a geographical lat-lon box. These are defined as region objects defined in regions.py. All regions will be evaluated separately and saved as an additional dimension in the dataset. If no region is specified, evaluation will be done globally."
   ]
  },
  {
   "cell_type": "code",
   "execution_count": null,
   "id": "5845764fb8e300da",
   "metadata": {
    "collapsed": false,
    "jupyter": {
     "outputs_hidden": false
    }
   },
   "outputs": [],
   "source": [
    "from weatherbench2.metrics import MSE, ACC, Bias, MAE, SpatialBias, SpatialMSE, SpatialMAE\n",
    "\n",
    "det_metrics={\n",
    "      'mse': MSE(),\n",
    "      'acc': ACC(climatology=climatology),\n",
    "      'bias': Bias(),\n",
    "      'mae': MAE(), \n",
    "}\n",
    "spatial_metrics = {\n",
    "      'bias': SpatialBias(),\n",
    "      'mse': SpatialMSE(),\n",
    "      'mae': SpatialMAE(),\n",
    "}\n",
    "\n",
    "\"\"\"!change save path\"\"\"\n",
    "eval_configs = {\n",
    "  'mae_det': config.Eval(\n",
    "      metrics=det_metrics,\n",
    "      regions=predefined_regions,\n",
    "      evaluate_persistence=False),\n",
    "  'mae_spatial': config.Eval(\n",
    "    metrics=spatial_metrics,\n",
    "    regions=predefined_regions,\n",
    "    evaluate_persistence=False,\n",
    "    output_format='zarr')\n",
    "}"
   ]
  },
  {
   "cell_type": "markdown",
   "id": "2712767bdbdac2ec",
   "metadata": {
    "collapsed": false,
    "jupyter": {
     "outputs_hidden": false
    }
   },
   "source": [
    "### Evaluate\n",
    "\n",
    "Now, we are already done and can run the evaluation. We can do so in memory for smaller datasets or as a Beam pipeline (recommended for anything larger than 64x32 resolution)."
   ]
  },
  {
   "cell_type": "code",
   "execution_count": null,
   "id": "77f7ff72e06a6665",
   "metadata": {
    "collapsed": false,
    "jupyter": {
     "outputs_hidden": false
    }
   },
   "outputs": [],
   "source": [
    "from weatherbench2.evaluation import evaluate_in_memory\n",
    "\n",
    "evaluate_in_memory(data_config, eval_configs)   # Takes some time."
   ]
  },
  {
   "cell_type": "markdown",
   "id": "c5ea80fa270f137d",
   "metadata": {
    "collapsed": false,
    "jupyter": {
     "outputs_hidden": false
    }
   },
   "source": [
    "### Results\n",
    "Results are saved as NetCDF files under the name of the eval config."
   ]
  },
  {
   "cell_type": "code",
   "execution_count": null,
   "id": "d7b69a3719b4089a",
   "metadata": {
    "collapsed": false,
    "jupyter": {
     "outputs_hidden": false
    }
   },
   "outputs": [],
   "source": [
    "\"\"\"!change save path\"\"\"\n",
    "results = xr.open_dataset('../evaluation/mse_det.nc')\n",
    "results"
   ]
  },
  {
   "cell_type": "markdown",
   "id": "fa6df42412fed33c",
   "metadata": {
    "collapsed": false,
    "jupyter": {
     "outputs_hidden": false
    }
   },
   "source": [
    "Note that to compute the RMSE, we follow ECMWF's convention by taking the square root after the time mean. To do this in WB2, first compute the MSE and then take the square root of the saved MSE results"
   ]
  },
  {
   "cell_type": "code",
   "execution_count": null,
   "id": "2dcd71bb010ceed7",
   "metadata": {
    "collapsed": false,
    "jupyter": {
     "outputs_hidden": false
    }
   },
   "outputs": [],
   "source": [
    "results = xr.concat(\n",
    "    [\n",
    "    results,\n",
    "    results.sel(metric=['mse']).assign_coords(metric=['rmse']) ** 0.5\n",
    "    ],\n",
    "    dim='metric'\n",
    ")"
   ]
  },
  {
   "cell_type": "code",
   "execution_count": null,
   "id": "7673c4e7f9aae70c",
   "metadata": {
    "collapsed": false,
    "jupyter": {
     "outputs_hidden": false
    }
   },
   "outputs": [],
   "source": [
    "# Plot the dataset\n",
    "results['2m_temperature'].sel(metric='bias').plot(label='Results')\n",
    "# Add legend\n",
    "plt.legend()\n",
    "# Show the plot\n",
    "plt.show()"
   ]
  },
  {
   "cell_type": "markdown",
   "id": "c6e1c74b-86a0-4995-a8af-f0c8c573fb5d",
   "metadata": {},
   "source": [
    "# compare results"
   ]
  },
  {
   "cell_type": "code",
   "execution_count": 33,
   "id": "00dbcc6d-0147-48bc-b079-0303a20f70f0",
   "metadata": {},
   "outputs": [],
   "source": [
    "results_gc = xr.open_dataset('../evaluation/gc_det.nc')\n",
    "results_mse = xr.open_dataset('../evaluation/mse_det.nc')\n",
    "results_mae = xr.open_dataset('../evaluation/mae_det.nc')"
   ]
  },
  {
   "cell_type": "code",
   "execution_count": 34,
   "id": "7139202c-f020-433f-bd59-e9e35fb036cb",
   "metadata": {},
   "outputs": [],
   "source": [
    "results_mse = xr.concat(\n",
    "    [results_mse,\n",
    "    results_mse.sel(metric=['mse']).assign_coords(metric=['rmse']) ** 0.5],\n",
    "    dim='metric'\n",
    ")\n",
    "results_mae = xr.concat(\n",
    "    [results_mae,\n",
    "    results_mae.sel(metric=['mse']).assign_coords(metric=['rmse']) ** 0.5],\n",
    "    dim='metric'\n",
    ")\n"
   ]
  },
  {
   "cell_type": "code",
   "execution_count": 35,
   "id": "27173d10-1da0-4e02-99b8-8b92676d91eb",
   "metadata": {},
   "outputs": [],
   "source": [
    "#convert time from ns to days.\n",
    "results_gc['lead_time'] = results_gc['lead_time'].astype('timedelta64[ns]') / pd.Timedelta(days=1)\n",
    "results_mse['lead_time'] = results_mse['lead_time'].astype('timedelta64[ns]') / pd.Timedelta(days=1)\n",
    "results_mae['lead_time'] = results_mae['lead_time'].astype('timedelta64[ns]') / pd.Timedelta(days=1)\n"
   ]
  },
  {
   "cell_type": "code",
   "execution_count": 37,
   "id": "2c722069-5ceb-4d47-b49b-f5822801893a",
   "metadata": {},
   "outputs": [
    {
     "data": {
      "image/png": "[encoded data removed]",
      "text/plain": [
       "<Figure size 640x480 with 1 Axes>"
      ]
     },
     "metadata": {},
     "output_type": "display_data"
    }
   ],
   "source": [
    "#plot the datasets:\n",
    "results_gc['geopotential'].sel(metric='rmse', level=850, region='global').plot(label='GraphCast')\n",
    "results_mse['geopotential'].sel(metric='rmse', level=850, region='global').plot(label='mse')\n",
    "results_mae['geopotential'].sel(metric='rmse', level=850, region='global').plot(label='mae')\n",
    "\n",
    "# Convert time coordinate to days, ensuring fractional day representation\n",
    "\n",
    "\n",
    "# Add legend\n",
    "plt.legend()\n",
    "title = \"Z500\"\n",
    "plt.title(title)\n",
    "plt.ylabel(\"RMSE [m²/s²]\")\n",
    "plt.xlabel(\"Lead time (days)\")\n",
    "# Show the plot\n",
    "plt.show()"
   ]
  },
  {
   "cell_type": "code",
   "execution_count": 40,
   "id": "c7e20872-afe4-4e46-bee1-75687b39f659",
   "metadata": {},
   "outputs": [
    {
     "data": {
      "text/plain": [
       "<Figure size 640x480 with 0 Axes>"
      ]
     },
     "metadata": {},
     "output_type": "display_data"
    }
   ],
   "source": [
    "#save plot to file\n",
    "plt.savefig('../plots/' + title, dpi=300, bbox_inches='tight', format='pdf')"
   ]
  },
  {
   "cell_type": "code",
   "execution_count": null,
   "id": "b7485444-fd07-4303-9d87-f27614335e87",
   "metadata": {},
   "outputs": [],
   "source": []
  }
 ],
 "metadata": {
  "kernelspec": {
   "display_name": "MTLMenv",
   "language": "python",
   "name": "mtlmenv"
  },
  "language_info": {
   "codemirror_mode": {
    "name": "ipython",
    "version": 3
   },
   "file_extension": ".py",
   "mimetype": "text/x-python",
   "name": "python",
   "nbconvert_exporter": "python",
   "pygments_lexer": "ipython3",
   "version": "3.12.3"
  }
 },
 "nbformat": 4,
 "nbformat_minor": 5
}
