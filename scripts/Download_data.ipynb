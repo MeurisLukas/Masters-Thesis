{
 "cells": [
  {
   "cell_type": "markdown",
   "id": "e36c99868a7ddece",
   "metadata": {
    "collapsed": false
   },
   "source": [
    "# Downloading the data\n",
    "\n",
    "This notebook is used to download the ERA5 data from weatherbench2.\n"
   ]
  },
  {
   "cell_type": "code",
   "execution_count": 17,
   "id": "2f5a14ed0c01d0d1",
   "metadata": {
    "ExecuteTime": {
     "end_time": "2024-04-25T15:33:40.640694Z",
     "start_time": "2024-04-25T15:33:39.926699Z"
    },
    "collapsed": false
   },
   "outputs": [],
   "source": [
    "import xarray as xr\n",
    "import os\n",
    "import fsspec\n",
    "import numpy as np\n",
    "import pandas as pd\n",
    "import jinja2"
   ]
  },
  {
   "cell_type": "code",
   "execution_count": 2,
   "id": "6df2770c08edee76",
   "metadata": {
    "ExecuteTime": {
     "end_time": "2024-04-25T15:35:02.278333Z",
     "start_time": "2024-04-25T15:33:48.351998Z"
    },
    "collapsed": false
   },
   "outputs": [
    {
     "name": "stdout",
     "output_type": "stream",
     "text": [
      "/bin/bash: line 1: gcloud: command not found\n"
     ]
    }
   ],
   "source": [
    "#!gcloud auth login\n",
    "#!gsutil -m cp -r \"gs://weatherbench2/datasets/era5/1959-2022-6h-64x32_equiangular_conservative.zarr\" ./ERA5_data"
   ]
  },
  {
   "cell_type": "code",
   "execution_count": 6,
   "id": "65b816d50836f90",
   "metadata": {
    "collapsed": false
   },
   "outputs": [
    {
     "data": {
      "text/plain": [
       "<xarray.backends.zarr.ZarrStore at 0x78c71de02f40>"
      ]
     },
     "execution_count": 6,
     "metadata": {},
     "output_type": "execute_result"
    }
   ],
   "source": [
    "# testing zarr:\n",
    "ds = xr.Dataset(\n",
    "    {\"foo\": ((\"x\", \"y\"), np.random.rand(4, 5))},\n",
    "    coords={\n",
    "        \"x\": [10, 20, 30, 40],\n",
    "        \"y\": pd.date_range(\"2000-01-01\", periods=5),\n",
    "        \"z\": (\"x\", list(\"abcd\")),\n",
    "    },\n",
    ")\n",
    "\n",
    "ds.to_zarr(\"../test/test.zarr\")"
   ]
  },
  {
   "cell_type": "code",
   "execution_count": 7,
   "id": "c55dff2d-cdcf-4451-98a4-476c6d136102",
   "metadata": {},
   "outputs": [
    {
     "ename": "ImportError",
     "evalue": "Dask diagnostics requirements are not installed.\n\nPlease either conda or pip install as follows:\n\n  conda install dask                     # either conda install\n  python -m pip install \"dask[diagnostics]\" --upgrade  # or python -m pip install",
     "output_type": "error",
     "traceback": [
      "\u001B[0;31m---------------------------------------------------------------------------\u001B[0m",
      "\u001B[0;31mModuleNotFoundError\u001B[0m                       Traceback (most recent call last)",
      "File \u001B[0;32m~/.conda/envs/MTLMenv/lib/python3.12/site-packages/dask/widgets/__init__.py:4\u001B[0m\n\u001B[1;32m      3\u001B[0m \u001B[38;5;28;01mtry\u001B[39;00m:\n\u001B[0;32m----> 4\u001B[0m     \u001B[38;5;28;01mfrom\u001B[39;00m \u001B[38;5;21;01mdask\u001B[39;00m\u001B[38;5;21;01m.\u001B[39;00m\u001B[38;5;21;01mwidgets\u001B[39;00m\u001B[38;5;21;01m.\u001B[39;00m\u001B[38;5;21;01mwidgets\u001B[39;00m \u001B[38;5;28;01mimport\u001B[39;00m (\n\u001B[1;32m      5\u001B[0m         FILTERS,\n\u001B[1;32m      6\u001B[0m         TEMPLATE_PATHS,\n\u001B[1;32m      7\u001B[0m         get_environment,\n\u001B[1;32m      8\u001B[0m         get_template,\n\u001B[1;32m      9\u001B[0m     )\n\u001B[1;32m     11\u001B[0m \u001B[38;5;28;01mexcept\u001B[39;00m \u001B[38;5;167;01mImportError\u001B[39;00m \u001B[38;5;28;01mas\u001B[39;00m e:\n",
      "File \u001B[0;32m~/.conda/envs/MTLMenv/lib/python3.12/site-packages/dask/widgets/widgets.py:7\u001B[0m\n\u001B[1;32m      5\u001B[0m \u001B[38;5;28;01mimport\u001B[39;00m \u001B[38;5;21;01mos\u001B[39;00m\u001B[38;5;21;01m.\u001B[39;00m\u001B[38;5;21;01mpath\u001B[39;00m\n\u001B[0;32m----> 7\u001B[0m \u001B[38;5;28;01mfrom\u001B[39;00m \u001B[38;5;21;01mjinja2\u001B[39;00m \u001B[38;5;28;01mimport\u001B[39;00m Environment, FileSystemLoader, Template\n\u001B[1;32m      8\u001B[0m \u001B[38;5;28;01mfrom\u001B[39;00m \u001B[38;5;21;01mjinja2\u001B[39;00m\u001B[38;5;21;01m.\u001B[39;00m\u001B[38;5;21;01mexceptions\u001B[39;00m \u001B[38;5;28;01mimport\u001B[39;00m TemplateNotFound\n",
      "\u001B[0;31mModuleNotFoundError\u001B[0m: No module named 'jinja2'",
      "\nThe above exception was the direct cause of the following exception:\n",
      "\u001B[0;31mImportError\u001B[0m                               Traceback (most recent call last)",
      "File \u001B[0;32m~/.local/lib/python3.12/site-packages/IPython/core/formatters.py:347\u001B[0m, in \u001B[0;36mBaseFormatter.__call__\u001B[0;34m(self, obj)\u001B[0m\n\u001B[1;32m    345\u001B[0m     method \u001B[38;5;241m=\u001B[39m get_real_method(obj, \u001B[38;5;28mself\u001B[39m\u001B[38;5;241m.\u001B[39mprint_method)\n\u001B[1;32m    346\u001B[0m     \u001B[38;5;28;01mif\u001B[39;00m method \u001B[38;5;129;01mis\u001B[39;00m \u001B[38;5;129;01mnot\u001B[39;00m \u001B[38;5;28;01mNone\u001B[39;00m:\n\u001B[0;32m--> 347\u001B[0m         \u001B[38;5;28;01mreturn\u001B[39;00m \u001B[43mmethod\u001B[49m\u001B[43m(\u001B[49m\u001B[43m)\u001B[49m\n\u001B[1;32m    348\u001B[0m     \u001B[38;5;28;01mreturn\u001B[39;00m \u001B[38;5;28;01mNone\u001B[39;00m\n\u001B[1;32m    349\u001B[0m \u001B[38;5;28;01melse\u001B[39;00m:\n",
      "File \u001B[0;32m~/.conda/envs/MTLMenv/lib/python3.12/site-packages/xarray/core/dataset.py:2545\u001B[0m, in \u001B[0;36mDataset._repr_html_\u001B[0;34m(self)\u001B[0m\n\u001B[1;32m   2543\u001B[0m \u001B[38;5;28;01mif\u001B[39;00m OPTIONS[\u001B[38;5;124m\"\u001B[39m\u001B[38;5;124mdisplay_style\u001B[39m\u001B[38;5;124m\"\u001B[39m] \u001B[38;5;241m==\u001B[39m \u001B[38;5;124m\"\u001B[39m\u001B[38;5;124mtext\u001B[39m\u001B[38;5;124m\"\u001B[39m:\n\u001B[1;32m   2544\u001B[0m     \u001B[38;5;28;01mreturn\u001B[39;00m \u001B[38;5;124mf\u001B[39m\u001B[38;5;124m\"\u001B[39m\u001B[38;5;124m<pre>\u001B[39m\u001B[38;5;132;01m{\u001B[39;00mescape(\u001B[38;5;28mrepr\u001B[39m(\u001B[38;5;28mself\u001B[39m))\u001B[38;5;132;01m}\u001B[39;00m\u001B[38;5;124m</pre>\u001B[39m\u001B[38;5;124m\"\u001B[39m\n\u001B[0;32m-> 2545\u001B[0m \u001B[38;5;28;01mreturn\u001B[39;00m \u001B[43mformatting_html\u001B[49m\u001B[38;5;241;43m.\u001B[39;49m\u001B[43mdataset_repr\u001B[49m\u001B[43m(\u001B[49m\u001B[38;5;28;43mself\u001B[39;49m\u001B[43m)\u001B[49m\n",
      "File \u001B[0;32m~/.conda/envs/MTLMenv/lib/python3.12/site-packages/xarray/core/formatting_html.py:337\u001B[0m, in \u001B[0;36mdataset_repr\u001B[0;34m(ds)\u001B[0m\n\u001B[1;32m    331\u001B[0m obj_type \u001B[38;5;241m=\u001B[39m \u001B[38;5;124mf\u001B[39m\u001B[38;5;124m\"\u001B[39m\u001B[38;5;124mxarray.\u001B[39m\u001B[38;5;132;01m{\u001B[39;00m\u001B[38;5;28mtype\u001B[39m(ds)\u001B[38;5;241m.\u001B[39m\u001B[38;5;18m__name__\u001B[39m\u001B[38;5;132;01m}\u001B[39;00m\u001B[38;5;124m\"\u001B[39m\n\u001B[1;32m    333\u001B[0m header_components \u001B[38;5;241m=\u001B[39m [\u001B[38;5;124mf\u001B[39m\u001B[38;5;124m\"\u001B[39m\u001B[38;5;124m<div class=\u001B[39m\u001B[38;5;124m'\u001B[39m\u001B[38;5;124mxr-obj-type\u001B[39m\u001B[38;5;124m'\u001B[39m\u001B[38;5;124m>\u001B[39m\u001B[38;5;132;01m{\u001B[39;00mescape(obj_type)\u001B[38;5;132;01m}\u001B[39;00m\u001B[38;5;124m</div>\u001B[39m\u001B[38;5;124m\"\u001B[39m]\n\u001B[1;32m    335\u001B[0m sections \u001B[38;5;241m=\u001B[39m [\n\u001B[1;32m    336\u001B[0m     dim_section(ds),\n\u001B[0;32m--> 337\u001B[0m     \u001B[43mcoord_section\u001B[49m\u001B[43m(\u001B[49m\u001B[43mds\u001B[49m\u001B[38;5;241;43m.\u001B[39;49m\u001B[43mcoords\u001B[49m\u001B[43m)\u001B[49m,\n\u001B[1;32m    338\u001B[0m     datavar_section(ds\u001B[38;5;241m.\u001B[39mdata_vars),\n\u001B[1;32m    339\u001B[0m     index_section(_get_indexes_dict(ds\u001B[38;5;241m.\u001B[39mxindexes)),\n\u001B[1;32m    340\u001B[0m     attr_section(ds\u001B[38;5;241m.\u001B[39mattrs),\n\u001B[1;32m    341\u001B[0m ]\n\u001B[1;32m    343\u001B[0m \u001B[38;5;28;01mreturn\u001B[39;00m _obj_repr(ds, header_components, sections)\n",
      "File \u001B[0;32m~/.conda/envs/MTLMenv/lib/python3.12/site-packages/xarray/core/formatting_html.py:200\u001B[0m, in \u001B[0;36m_mapping_section\u001B[0;34m(mapping, name, details_func, max_items_collapse, expand_option_name, enabled)\u001B[0m\n\u001B[1;32m    193\u001B[0m expanded \u001B[38;5;241m=\u001B[39m _get_boolean_with_default(\n\u001B[1;32m    194\u001B[0m     expand_option_name, n_items \u001B[38;5;241m<\u001B[39m max_items_collapse\n\u001B[1;32m    195\u001B[0m )\n\u001B[1;32m    196\u001B[0m collapsed \u001B[38;5;241m=\u001B[39m \u001B[38;5;129;01mnot\u001B[39;00m expanded\n\u001B[1;32m    198\u001B[0m \u001B[38;5;28;01mreturn\u001B[39;00m collapsible_section(\n\u001B[1;32m    199\u001B[0m     name,\n\u001B[0;32m--> 200\u001B[0m     details\u001B[38;5;241m=\u001B[39m\u001B[43mdetails_func\u001B[49m\u001B[43m(\u001B[49m\u001B[43mmapping\u001B[49m\u001B[43m)\u001B[49m,\n\u001B[1;32m    201\u001B[0m     n_items\u001B[38;5;241m=\u001B[39mn_items,\n\u001B[1;32m    202\u001B[0m     enabled\u001B[38;5;241m=\u001B[39menabled,\n\u001B[1;32m    203\u001B[0m     collapsed\u001B[38;5;241m=\u001B[39mcollapsed,\n\u001B[1;32m    204\u001B[0m )\n",
      "File \u001B[0;32m~/.conda/envs/MTLMenv/lib/python3.12/site-packages/xarray/core/formatting_html.py:116\u001B[0m, in \u001B[0;36msummarize_coords\u001B[0;34m(variables)\u001B[0m\n\u001B[1;32m    114\u001B[0m li_items \u001B[38;5;241m=\u001B[39m []\n\u001B[1;32m    115\u001B[0m \u001B[38;5;28;01mfor\u001B[39;00m k, v \u001B[38;5;129;01min\u001B[39;00m variables\u001B[38;5;241m.\u001B[39mitems():\n\u001B[0;32m--> 116\u001B[0m     li_content \u001B[38;5;241m=\u001B[39m \u001B[43msummarize_variable\u001B[49m\u001B[43m(\u001B[49m\u001B[43mk\u001B[49m\u001B[43m,\u001B[49m\u001B[43m \u001B[49m\u001B[43mv\u001B[49m\u001B[43m,\u001B[49m\u001B[43m \u001B[49m\u001B[43mis_index\u001B[49m\u001B[38;5;241;43m=\u001B[39;49m\u001B[43mk\u001B[49m\u001B[43m \u001B[49m\u001B[38;5;129;43;01min\u001B[39;49;00m\u001B[43m \u001B[49m\u001B[43mvariables\u001B[49m\u001B[38;5;241;43m.\u001B[39;49m\u001B[43mxindexes\u001B[49m\u001B[43m)\u001B[49m\n\u001B[1;32m    117\u001B[0m     li_items\u001B[38;5;241m.\u001B[39mappend(\u001B[38;5;124mf\u001B[39m\u001B[38;5;124m\"\u001B[39m\u001B[38;5;124m<li class=\u001B[39m\u001B[38;5;124m'\u001B[39m\u001B[38;5;124mxr-var-item\u001B[39m\u001B[38;5;124m'\u001B[39m\u001B[38;5;124m>\u001B[39m\u001B[38;5;132;01m{\u001B[39;00mli_content\u001B[38;5;132;01m}\u001B[39;00m\u001B[38;5;124m</li>\u001B[39m\u001B[38;5;124m\"\u001B[39m)\n\u001B[1;32m    119\u001B[0m vars_li \u001B[38;5;241m=\u001B[39m \u001B[38;5;124m\"\u001B[39m\u001B[38;5;124m\"\u001B[39m\u001B[38;5;241m.\u001B[39mjoin(li_items)\n",
      "File \u001B[0;32m~/.conda/envs/MTLMenv/lib/python3.12/site-packages/xarray/core/formatting_html.py:91\u001B[0m, in \u001B[0;36msummarize_variable\u001B[0;34m(name, var, is_index, dtype)\u001B[0m\n\u001B[1;32m     89\u001B[0m preview \u001B[38;5;241m=\u001B[39m escape(inline_variable_array_repr(variable, \u001B[38;5;241m35\u001B[39m))\n\u001B[1;32m     90\u001B[0m attrs_ul \u001B[38;5;241m=\u001B[39m summarize_attrs(var\u001B[38;5;241m.\u001B[39mattrs)\n\u001B[0;32m---> 91\u001B[0m data_repr \u001B[38;5;241m=\u001B[39m \u001B[43mshort_data_repr_html\u001B[49m\u001B[43m(\u001B[49m\u001B[43mvariable\u001B[49m\u001B[43m)\u001B[49m\n\u001B[1;32m     93\u001B[0m attrs_icon \u001B[38;5;241m=\u001B[39m _icon(\u001B[38;5;124m\"\u001B[39m\u001B[38;5;124micon-file-text2\u001B[39m\u001B[38;5;124m\"\u001B[39m)\n\u001B[1;32m     94\u001B[0m data_icon \u001B[38;5;241m=\u001B[39m _icon(\u001B[38;5;124m\"\u001B[39m\u001B[38;5;124micon-database\u001B[39m\u001B[38;5;124m\"\u001B[39m)\n",
      "File \u001B[0;32m~/.conda/envs/MTLMenv/lib/python3.12/site-packages/xarray/core/formatting_html.py:35\u001B[0m, in \u001B[0;36mshort_data_repr_html\u001B[0;34m(array)\u001B[0m\n\u001B[1;32m     33\u001B[0m internal_data \u001B[38;5;241m=\u001B[39m \u001B[38;5;28mgetattr\u001B[39m(array, \u001B[38;5;124m\"\u001B[39m\u001B[38;5;124mvariable\u001B[39m\u001B[38;5;124m\"\u001B[39m, array)\u001B[38;5;241m.\u001B[39m_data\n\u001B[1;32m     34\u001B[0m \u001B[38;5;28;01mif\u001B[39;00m \u001B[38;5;28mhasattr\u001B[39m(internal_data, \u001B[38;5;124m\"\u001B[39m\u001B[38;5;124m_repr_html_\u001B[39m\u001B[38;5;124m\"\u001B[39m):\n\u001B[0;32m---> 35\u001B[0m     \u001B[38;5;28;01mreturn\u001B[39;00m \u001B[43minternal_data\u001B[49m\u001B[38;5;241;43m.\u001B[39;49m\u001B[43m_repr_html_\u001B[49m\u001B[43m(\u001B[49m\u001B[43m)\u001B[49m\n\u001B[1;32m     36\u001B[0m text \u001B[38;5;241m=\u001B[39m escape(short_data_repr(array))\n\u001B[1;32m     37\u001B[0m \u001B[38;5;28;01mreturn\u001B[39;00m \u001B[38;5;124mf\u001B[39m\u001B[38;5;124m\"\u001B[39m\u001B[38;5;124m<pre>\u001B[39m\u001B[38;5;132;01m{\u001B[39;00mtext\u001B[38;5;132;01m}\u001B[39;00m\u001B[38;5;124m</pre>\u001B[39m\u001B[38;5;124m\"\u001B[39m\n",
      "File \u001B[0;32m~/.conda/envs/MTLMenv/lib/python3.12/site-packages/dask/array/core.py:1642\u001B[0m, in \u001B[0;36mArray._repr_html_\u001B[0;34m(self)\u001B[0m\n\u001B[1;32m   1639\u001B[0m     nbytes \u001B[38;5;241m=\u001B[39m \u001B[38;5;124m\"\u001B[39m\u001B[38;5;124munknown\u001B[39m\u001B[38;5;124m\"\u001B[39m\n\u001B[1;32m   1640\u001B[0m     cbytes \u001B[38;5;241m=\u001B[39m \u001B[38;5;124m\"\u001B[39m\u001B[38;5;124munknown\u001B[39m\u001B[38;5;124m\"\u001B[39m\n\u001B[0;32m-> 1642\u001B[0m \u001B[38;5;28;01mreturn\u001B[39;00m \u001B[43mget_template\u001B[49m\u001B[43m(\u001B[49m\u001B[38;5;124;43m\"\u001B[39;49m\u001B[38;5;124;43marray.html.j2\u001B[39;49m\u001B[38;5;124;43m\"\u001B[39;49m\u001B[43m)\u001B[49m\u001B[38;5;241m.\u001B[39mrender(\n\u001B[1;32m   1643\u001B[0m     array\u001B[38;5;241m=\u001B[39m\u001B[38;5;28mself\u001B[39m,\n\u001B[1;32m   1644\u001B[0m     grid\u001B[38;5;241m=\u001B[39mgrid,\n\u001B[1;32m   1645\u001B[0m     nbytes\u001B[38;5;241m=\u001B[39mnbytes,\n\u001B[1;32m   1646\u001B[0m     cbytes\u001B[38;5;241m=\u001B[39mcbytes,\n\u001B[1;32m   1647\u001B[0m     layers\u001B[38;5;241m=\u001B[39mmaybe_pluralize(\u001B[38;5;28mlen\u001B[39m(\u001B[38;5;28mself\u001B[39m\u001B[38;5;241m.\u001B[39mdask\u001B[38;5;241m.\u001B[39mlayers), \u001B[38;5;124m\"\u001B[39m\u001B[38;5;124mgraph layer\u001B[39m\u001B[38;5;124m\"\u001B[39m),\n\u001B[1;32m   1648\u001B[0m )\n",
      "File \u001B[0;32m~/.conda/envs/MTLMenv/lib/python3.12/site-packages/dask/widgets/__init__.py:26\u001B[0m, in \u001B[0;36mget_template\u001B[0;34m(name)\u001B[0m\n\u001B[1;32m     25\u001B[0m \u001B[38;5;28;01mdef\u001B[39;00m \u001B[38;5;21mget_template\u001B[39m(name: \u001B[38;5;28mstr\u001B[39m):\n\u001B[0;32m---> 26\u001B[0m     \u001B[38;5;28;01mraise\u001B[39;00m \u001B[38;5;167;01mImportError\u001B[39;00m(msg) \u001B[38;5;28;01mfrom\u001B[39;00m \u001B[38;5;21;01mexception\u001B[39;00m\n",
      "\u001B[0;31mImportError\u001B[0m: Dask diagnostics requirements are not installed.\n\nPlease either conda or pip install as follows:\n\n  conda install dask                     # either conda install\n  python -m pip install \"dask[diagnostics]\" --upgrade  # or python -m pip install"
     ]
    },
    {
     "data": {
      "text/plain": [
       "<xarray.Dataset> Size: 248B\n",
       "Dimensions:  (x: 4, y: 5)\n",
       "Coordinates:\n",
       "  * x        (x) int64 32B 10 20 30 40\n",
       "  * y        (y) datetime64[ns] 40B 2000-01-01 2000-01-02 ... 2000-01-05\n",
       "    z        (x) <U1 16B dask.array<chunksize=(4,), meta=np.ndarray>\n",
       "Data variables:\n",
       "    foo      (x, y) float64 160B dask.array<chunksize=(4, 5), meta=np.ndarray>"
      ]
     },
     "execution_count": 7,
     "metadata": {},
     "output_type": "execute_result"
    }
   ],
   "source": [
    "ds_zarr = xr.open_zarr(\"../test/test.zarr\")\n",
    "ds_zarr"
   ]
  },
  {
   "cell_type": "code",
   "execution_count": 12,
   "id": "f3b185b4b491fadc",
   "metadata": {
    "collapsed": false
   },
   "outputs": [
    {
     "name": "stdout",
     "output_type": "stream",
     "text": [
      "/home/jupyter-lukas/Masters-Thesis/ERA5_data/1959-2022-6h-64x32_equiangular_conservative.zarr\n"
     ]
    }
   ],
   "source": [
    "\n",
    "# Define the relative path to the file\n",
    "relative_path = \"ERA5_data/1959-2022-6h-64x32_equiangular_conservative.zarr\"\n",
    "\n",
    "# Get the absolute path by joining the current directory with the relative path\n",
    "absolute_path = os.path.join(os.path.dirname(os.getcwd()), relative_path)\n",
    "print(absolute_path)\n"
   ]
  },
  {
   "cell_type": "code",
   "execution_count": 16,
   "id": "384f35fb-e8e5-425d-8ce1-587f2baa74a3",
   "metadata": {},
   "outputs": [
    {
     "ename": "ImportError",
     "evalue": "Dask diagnostics requirements are not installed.\n\nPlease either conda or pip install as follows:\n\n  conda install dask                     # either conda install\n  python -m pip install \"dask[diagnostics]\" --upgrade  # or python -m pip install",
     "output_type": "error",
     "traceback": [
      "\u001B[0;31m---------------------------------------------------------------------------\u001B[0m",
      "\u001B[0;31mModuleNotFoundError\u001B[0m                       Traceback (most recent call last)",
      "File \u001B[0;32m~/.conda/envs/MTLMenv/lib/python3.12/site-packages/dask/widgets/__init__.py:4\u001B[0m\n\u001B[1;32m      3\u001B[0m \u001B[38;5;28;01mtry\u001B[39;00m:\n\u001B[0;32m----> 4\u001B[0m     \u001B[38;5;28;01mfrom\u001B[39;00m \u001B[38;5;21;01mdask\u001B[39;00m\u001B[38;5;21;01m.\u001B[39;00m\u001B[38;5;21;01mwidgets\u001B[39;00m\u001B[38;5;21;01m.\u001B[39;00m\u001B[38;5;21;01mwidgets\u001B[39;00m \u001B[38;5;28;01mimport\u001B[39;00m (\n\u001B[1;32m      5\u001B[0m         FILTERS,\n\u001B[1;32m      6\u001B[0m         TEMPLATE_PATHS,\n\u001B[1;32m      7\u001B[0m         get_environment,\n\u001B[1;32m      8\u001B[0m         get_template,\n\u001B[1;32m      9\u001B[0m     )\n\u001B[1;32m     11\u001B[0m \u001B[38;5;28;01mexcept\u001B[39;00m \u001B[38;5;167;01mImportError\u001B[39;00m \u001B[38;5;28;01mas\u001B[39;00m e:\n",
      "File \u001B[0;32m~/.conda/envs/MTLMenv/lib/python3.12/site-packages/dask/widgets/widgets.py:7\u001B[0m\n\u001B[1;32m      5\u001B[0m \u001B[38;5;28;01mimport\u001B[39;00m \u001B[38;5;21;01mos\u001B[39;00m\u001B[38;5;21;01m.\u001B[39;00m\u001B[38;5;21;01mpath\u001B[39;00m\n\u001B[0;32m----> 7\u001B[0m \u001B[38;5;28;01mfrom\u001B[39;00m \u001B[38;5;21;01mjinja2\u001B[39;00m \u001B[38;5;28;01mimport\u001B[39;00m Environment, FileSystemLoader, Template\n\u001B[1;32m      8\u001B[0m \u001B[38;5;28;01mfrom\u001B[39;00m \u001B[38;5;21;01mjinja2\u001B[39;00m\u001B[38;5;21;01m.\u001B[39;00m\u001B[38;5;21;01mexceptions\u001B[39;00m \u001B[38;5;28;01mimport\u001B[39;00m TemplateNotFound\n",
      "\u001B[0;31mModuleNotFoundError\u001B[0m: No module named 'jinja2'",
      "\nThe above exception was the direct cause of the following exception:\n",
      "\u001B[0;31mImportError\u001B[0m                               Traceback (most recent call last)",
      "File \u001B[0;32m~/.local/lib/python3.12/site-packages/IPython/core/formatters.py:347\u001B[0m, in \u001B[0;36mBaseFormatter.__call__\u001B[0;34m(self, obj)\u001B[0m\n\u001B[1;32m    345\u001B[0m     method \u001B[38;5;241m=\u001B[39m get_real_method(obj, \u001B[38;5;28mself\u001B[39m\u001B[38;5;241m.\u001B[39mprint_method)\n\u001B[1;32m    346\u001B[0m     \u001B[38;5;28;01mif\u001B[39;00m method \u001B[38;5;129;01mis\u001B[39;00m \u001B[38;5;129;01mnot\u001B[39;00m \u001B[38;5;28;01mNone\u001B[39;00m:\n\u001B[0;32m--> 347\u001B[0m         \u001B[38;5;28;01mreturn\u001B[39;00m \u001B[43mmethod\u001B[49m\u001B[43m(\u001B[49m\u001B[43m)\u001B[49m\n\u001B[1;32m    348\u001B[0m     \u001B[38;5;28;01mreturn\u001B[39;00m \u001B[38;5;28;01mNone\u001B[39;00m\n\u001B[1;32m    349\u001B[0m \u001B[38;5;28;01melse\u001B[39;00m:\n",
      "File \u001B[0;32m~/.conda/envs/MTLMenv/lib/python3.12/site-packages/xarray/core/dataset.py:2545\u001B[0m, in \u001B[0;36mDataset._repr_html_\u001B[0;34m(self)\u001B[0m\n\u001B[1;32m   2543\u001B[0m \u001B[38;5;28;01mif\u001B[39;00m OPTIONS[\u001B[38;5;124m\"\u001B[39m\u001B[38;5;124mdisplay_style\u001B[39m\u001B[38;5;124m\"\u001B[39m] \u001B[38;5;241m==\u001B[39m \u001B[38;5;124m\"\u001B[39m\u001B[38;5;124mtext\u001B[39m\u001B[38;5;124m\"\u001B[39m:\n\u001B[1;32m   2544\u001B[0m     \u001B[38;5;28;01mreturn\u001B[39;00m \u001B[38;5;124mf\u001B[39m\u001B[38;5;124m\"\u001B[39m\u001B[38;5;124m<pre>\u001B[39m\u001B[38;5;132;01m{\u001B[39;00mescape(\u001B[38;5;28mrepr\u001B[39m(\u001B[38;5;28mself\u001B[39m))\u001B[38;5;132;01m}\u001B[39;00m\u001B[38;5;124m</pre>\u001B[39m\u001B[38;5;124m\"\u001B[39m\n\u001B[0;32m-> 2545\u001B[0m \u001B[38;5;28;01mreturn\u001B[39;00m \u001B[43mformatting_html\u001B[49m\u001B[38;5;241;43m.\u001B[39;49m\u001B[43mdataset_repr\u001B[49m\u001B[43m(\u001B[49m\u001B[38;5;28;43mself\u001B[39;49m\u001B[43m)\u001B[49m\n",
      "File \u001B[0;32m~/.conda/envs/MTLMenv/lib/python3.12/site-packages/xarray/core/formatting_html.py:338\u001B[0m, in \u001B[0;36mdataset_repr\u001B[0;34m(ds)\u001B[0m\n\u001B[1;32m    331\u001B[0m obj_type \u001B[38;5;241m=\u001B[39m \u001B[38;5;124mf\u001B[39m\u001B[38;5;124m\"\u001B[39m\u001B[38;5;124mxarray.\u001B[39m\u001B[38;5;132;01m{\u001B[39;00m\u001B[38;5;28mtype\u001B[39m(ds)\u001B[38;5;241m.\u001B[39m\u001B[38;5;18m__name__\u001B[39m\u001B[38;5;132;01m}\u001B[39;00m\u001B[38;5;124m\"\u001B[39m\n\u001B[1;32m    333\u001B[0m header_components \u001B[38;5;241m=\u001B[39m [\u001B[38;5;124mf\u001B[39m\u001B[38;5;124m\"\u001B[39m\u001B[38;5;124m<div class=\u001B[39m\u001B[38;5;124m'\u001B[39m\u001B[38;5;124mxr-obj-type\u001B[39m\u001B[38;5;124m'\u001B[39m\u001B[38;5;124m>\u001B[39m\u001B[38;5;132;01m{\u001B[39;00mescape(obj_type)\u001B[38;5;132;01m}\u001B[39;00m\u001B[38;5;124m</div>\u001B[39m\u001B[38;5;124m\"\u001B[39m]\n\u001B[1;32m    335\u001B[0m sections \u001B[38;5;241m=\u001B[39m [\n\u001B[1;32m    336\u001B[0m     dim_section(ds),\n\u001B[1;32m    337\u001B[0m     coord_section(ds\u001B[38;5;241m.\u001B[39mcoords),\n\u001B[0;32m--> 338\u001B[0m     \u001B[43mdatavar_section\u001B[49m\u001B[43m(\u001B[49m\u001B[43mds\u001B[49m\u001B[38;5;241;43m.\u001B[39;49m\u001B[43mdata_vars\u001B[49m\u001B[43m)\u001B[49m,\n\u001B[1;32m    339\u001B[0m     index_section(_get_indexes_dict(ds\u001B[38;5;241m.\u001B[39mxindexes)),\n\u001B[1;32m    340\u001B[0m     attr_section(ds\u001B[38;5;241m.\u001B[39mattrs),\n\u001B[1;32m    341\u001B[0m ]\n\u001B[1;32m    343\u001B[0m \u001B[38;5;28;01mreturn\u001B[39;00m _obj_repr(ds, header_components, sections)\n",
      "File \u001B[0;32m~/.conda/envs/MTLMenv/lib/python3.12/site-packages/xarray/core/formatting_html.py:200\u001B[0m, in \u001B[0;36m_mapping_section\u001B[0;34m(mapping, name, details_func, max_items_collapse, expand_option_name, enabled)\u001B[0m\n\u001B[1;32m    193\u001B[0m expanded \u001B[38;5;241m=\u001B[39m _get_boolean_with_default(\n\u001B[1;32m    194\u001B[0m     expand_option_name, n_items \u001B[38;5;241m<\u001B[39m max_items_collapse\n\u001B[1;32m    195\u001B[0m )\n\u001B[1;32m    196\u001B[0m collapsed \u001B[38;5;241m=\u001B[39m \u001B[38;5;129;01mnot\u001B[39;00m expanded\n\u001B[1;32m    198\u001B[0m \u001B[38;5;28;01mreturn\u001B[39;00m collapsible_section(\n\u001B[1;32m    199\u001B[0m     name,\n\u001B[0;32m--> 200\u001B[0m     details\u001B[38;5;241m=\u001B[39m\u001B[43mdetails_func\u001B[49m\u001B[43m(\u001B[49m\u001B[43mmapping\u001B[49m\u001B[43m)\u001B[49m,\n\u001B[1;32m    201\u001B[0m     n_items\u001B[38;5;241m=\u001B[39mn_items,\n\u001B[1;32m    202\u001B[0m     enabled\u001B[38;5;241m=\u001B[39menabled,\n\u001B[1;32m    203\u001B[0m     collapsed\u001B[38;5;241m=\u001B[39mcollapsed,\n\u001B[1;32m    204\u001B[0m )\n",
      "File \u001B[0;32m~/.conda/envs/MTLMenv/lib/python3.12/site-packages/xarray/core/formatting_html.py:125\u001B[0m, in \u001B[0;36msummarize_vars\u001B[0;34m(variables)\u001B[0m\n\u001B[1;32m    124\u001B[0m \u001B[38;5;28;01mdef\u001B[39;00m \u001B[38;5;21msummarize_vars\u001B[39m(variables) \u001B[38;5;241m-\u001B[39m\u001B[38;5;241m>\u001B[39m \u001B[38;5;28mstr\u001B[39m:\n\u001B[0;32m--> 125\u001B[0m     vars_li \u001B[38;5;241m=\u001B[39m \u001B[38;5;124;43m\"\u001B[39;49m\u001B[38;5;124;43m\"\u001B[39;49m\u001B[38;5;241;43m.\u001B[39;49m\u001B[43mjoin\u001B[49m\u001B[43m(\u001B[49m\n\u001B[1;32m    126\u001B[0m \u001B[43m        \u001B[49m\u001B[38;5;124;43mf\u001B[39;49m\u001B[38;5;124;43m\"\u001B[39;49m\u001B[38;5;124;43m<li class=\u001B[39;49m\u001B[38;5;124;43m'\u001B[39;49m\u001B[38;5;124;43mxr-var-item\u001B[39;49m\u001B[38;5;124;43m'\u001B[39;49m\u001B[38;5;124;43m>\u001B[39;49m\u001B[38;5;132;43;01m{\u001B[39;49;00m\u001B[43msummarize_variable\u001B[49m\u001B[43m(\u001B[49m\u001B[43mk\u001B[49m\u001B[43m,\u001B[49m\u001B[38;5;250;43m \u001B[39;49m\u001B[43mv\u001B[49m\u001B[43m)\u001B[49m\u001B[38;5;132;43;01m}\u001B[39;49;00m\u001B[38;5;124;43m</li>\u001B[39;49m\u001B[38;5;124;43m\"\u001B[39;49m\n\u001B[1;32m    127\u001B[0m \u001B[43m        \u001B[49m\u001B[38;5;28;43;01mfor\u001B[39;49;00m\u001B[43m \u001B[49m\u001B[43mk\u001B[49m\u001B[43m,\u001B[49m\u001B[43m \u001B[49m\u001B[43mv\u001B[49m\u001B[43m \u001B[49m\u001B[38;5;129;43;01min\u001B[39;49;00m\u001B[43m \u001B[49m\u001B[43mvariables\u001B[49m\u001B[38;5;241;43m.\u001B[39;49m\u001B[43mitems\u001B[49m\u001B[43m(\u001B[49m\u001B[43m)\u001B[49m\n\u001B[1;32m    128\u001B[0m \u001B[43m    \u001B[49m\u001B[43m)\u001B[49m\n\u001B[1;32m    130\u001B[0m     \u001B[38;5;28;01mreturn\u001B[39;00m \u001B[38;5;124mf\u001B[39m\u001B[38;5;124m\"\u001B[39m\u001B[38;5;124m<ul class=\u001B[39m\u001B[38;5;124m'\u001B[39m\u001B[38;5;124mxr-var-list\u001B[39m\u001B[38;5;124m'\u001B[39m\u001B[38;5;124m>\u001B[39m\u001B[38;5;132;01m{\u001B[39;00mvars_li\u001B[38;5;132;01m}\u001B[39;00m\u001B[38;5;124m</ul>\u001B[39m\u001B[38;5;124m\"\u001B[39m\n",
      "File \u001B[0;32m~/.conda/envs/MTLMenv/lib/python3.12/site-packages/xarray/core/formatting_html.py:126\u001B[0m, in \u001B[0;36m<genexpr>\u001B[0;34m(.0)\u001B[0m\n\u001B[1;32m    124\u001B[0m \u001B[38;5;28;01mdef\u001B[39;00m \u001B[38;5;21msummarize_vars\u001B[39m(variables) \u001B[38;5;241m-\u001B[39m\u001B[38;5;241m>\u001B[39m \u001B[38;5;28mstr\u001B[39m:\n\u001B[1;32m    125\u001B[0m     vars_li \u001B[38;5;241m=\u001B[39m \u001B[38;5;124m\"\u001B[39m\u001B[38;5;124m\"\u001B[39m\u001B[38;5;241m.\u001B[39mjoin(\n\u001B[0;32m--> 126\u001B[0m         \u001B[38;5;124mf\u001B[39m\u001B[38;5;124m\"\u001B[39m\u001B[38;5;124m<li class=\u001B[39m\u001B[38;5;124m'\u001B[39m\u001B[38;5;124mxr-var-item\u001B[39m\u001B[38;5;124m'\u001B[39m\u001B[38;5;124m>\u001B[39m\u001B[38;5;132;01m{\u001B[39;00m\u001B[43msummarize_variable\u001B[49m\u001B[43m(\u001B[49m\u001B[43mk\u001B[49m\u001B[43m,\u001B[49m\u001B[38;5;250;43m \u001B[39;49m\u001B[43mv\u001B[49m\u001B[43m)\u001B[49m\u001B[38;5;132;01m}\u001B[39;00m\u001B[38;5;124m</li>\u001B[39m\u001B[38;5;124m\"\u001B[39m\n\u001B[1;32m    127\u001B[0m         \u001B[38;5;28;01mfor\u001B[39;00m k, v \u001B[38;5;129;01min\u001B[39;00m variables\u001B[38;5;241m.\u001B[39mitems()\n\u001B[1;32m    128\u001B[0m     )\n\u001B[1;32m    130\u001B[0m     \u001B[38;5;28;01mreturn\u001B[39;00m \u001B[38;5;124mf\u001B[39m\u001B[38;5;124m\"\u001B[39m\u001B[38;5;124m<ul class=\u001B[39m\u001B[38;5;124m'\u001B[39m\u001B[38;5;124mxr-var-list\u001B[39m\u001B[38;5;124m'\u001B[39m\u001B[38;5;124m>\u001B[39m\u001B[38;5;132;01m{\u001B[39;00mvars_li\u001B[38;5;132;01m}\u001B[39;00m\u001B[38;5;124m</ul>\u001B[39m\u001B[38;5;124m\"\u001B[39m\n",
      "File \u001B[0;32m~/.conda/envs/MTLMenv/lib/python3.12/site-packages/xarray/core/formatting_html.py:91\u001B[0m, in \u001B[0;36msummarize_variable\u001B[0;34m(name, var, is_index, dtype)\u001B[0m\n\u001B[1;32m     89\u001B[0m preview \u001B[38;5;241m=\u001B[39m escape(inline_variable_array_repr(variable, \u001B[38;5;241m35\u001B[39m))\n\u001B[1;32m     90\u001B[0m attrs_ul \u001B[38;5;241m=\u001B[39m summarize_attrs(var\u001B[38;5;241m.\u001B[39mattrs)\n\u001B[0;32m---> 91\u001B[0m data_repr \u001B[38;5;241m=\u001B[39m \u001B[43mshort_data_repr_html\u001B[49m\u001B[43m(\u001B[49m\u001B[43mvariable\u001B[49m\u001B[43m)\u001B[49m\n\u001B[1;32m     93\u001B[0m attrs_icon \u001B[38;5;241m=\u001B[39m _icon(\u001B[38;5;124m\"\u001B[39m\u001B[38;5;124micon-file-text2\u001B[39m\u001B[38;5;124m\"\u001B[39m)\n\u001B[1;32m     94\u001B[0m data_icon \u001B[38;5;241m=\u001B[39m _icon(\u001B[38;5;124m\"\u001B[39m\u001B[38;5;124micon-database\u001B[39m\u001B[38;5;124m\"\u001B[39m)\n",
      "File \u001B[0;32m~/.conda/envs/MTLMenv/lib/python3.12/site-packages/xarray/core/formatting_html.py:35\u001B[0m, in \u001B[0;36mshort_data_repr_html\u001B[0;34m(array)\u001B[0m\n\u001B[1;32m     33\u001B[0m internal_data \u001B[38;5;241m=\u001B[39m \u001B[38;5;28mgetattr\u001B[39m(array, \u001B[38;5;124m\"\u001B[39m\u001B[38;5;124mvariable\u001B[39m\u001B[38;5;124m\"\u001B[39m, array)\u001B[38;5;241m.\u001B[39m_data\n\u001B[1;32m     34\u001B[0m \u001B[38;5;28;01mif\u001B[39;00m \u001B[38;5;28mhasattr\u001B[39m(internal_data, \u001B[38;5;124m\"\u001B[39m\u001B[38;5;124m_repr_html_\u001B[39m\u001B[38;5;124m\"\u001B[39m):\n\u001B[0;32m---> 35\u001B[0m     \u001B[38;5;28;01mreturn\u001B[39;00m \u001B[43minternal_data\u001B[49m\u001B[38;5;241;43m.\u001B[39;49m\u001B[43m_repr_html_\u001B[49m\u001B[43m(\u001B[49m\u001B[43m)\u001B[49m\n\u001B[1;32m     36\u001B[0m text \u001B[38;5;241m=\u001B[39m escape(short_data_repr(array))\n\u001B[1;32m     37\u001B[0m \u001B[38;5;28;01mreturn\u001B[39;00m \u001B[38;5;124mf\u001B[39m\u001B[38;5;124m\"\u001B[39m\u001B[38;5;124m<pre>\u001B[39m\u001B[38;5;132;01m{\u001B[39;00mtext\u001B[38;5;132;01m}\u001B[39;00m\u001B[38;5;124m</pre>\u001B[39m\u001B[38;5;124m\"\u001B[39m\n",
      "File \u001B[0;32m~/.conda/envs/MTLMenv/lib/python3.12/site-packages/dask/array/core.py:1642\u001B[0m, in \u001B[0;36mArray._repr_html_\u001B[0;34m(self)\u001B[0m\n\u001B[1;32m   1639\u001B[0m     nbytes \u001B[38;5;241m=\u001B[39m \u001B[38;5;124m\"\u001B[39m\u001B[38;5;124munknown\u001B[39m\u001B[38;5;124m\"\u001B[39m\n\u001B[1;32m   1640\u001B[0m     cbytes \u001B[38;5;241m=\u001B[39m \u001B[38;5;124m\"\u001B[39m\u001B[38;5;124munknown\u001B[39m\u001B[38;5;124m\"\u001B[39m\n\u001B[0;32m-> 1642\u001B[0m \u001B[38;5;28;01mreturn\u001B[39;00m \u001B[43mget_template\u001B[49m\u001B[43m(\u001B[49m\u001B[38;5;124;43m\"\u001B[39;49m\u001B[38;5;124;43marray.html.j2\u001B[39;49m\u001B[38;5;124;43m\"\u001B[39;49m\u001B[43m)\u001B[49m\u001B[38;5;241m.\u001B[39mrender(\n\u001B[1;32m   1643\u001B[0m     array\u001B[38;5;241m=\u001B[39m\u001B[38;5;28mself\u001B[39m,\n\u001B[1;32m   1644\u001B[0m     grid\u001B[38;5;241m=\u001B[39mgrid,\n\u001B[1;32m   1645\u001B[0m     nbytes\u001B[38;5;241m=\u001B[39mnbytes,\n\u001B[1;32m   1646\u001B[0m     cbytes\u001B[38;5;241m=\u001B[39mcbytes,\n\u001B[1;32m   1647\u001B[0m     layers\u001B[38;5;241m=\u001B[39mmaybe_pluralize(\u001B[38;5;28mlen\u001B[39m(\u001B[38;5;28mself\u001B[39m\u001B[38;5;241m.\u001B[39mdask\u001B[38;5;241m.\u001B[39mlayers), \u001B[38;5;124m\"\u001B[39m\u001B[38;5;124mgraph layer\u001B[39m\u001B[38;5;124m\"\u001B[39m),\n\u001B[1;32m   1648\u001B[0m )\n",
      "File \u001B[0;32m~/.conda/envs/MTLMenv/lib/python3.12/site-packages/dask/widgets/__init__.py:26\u001B[0m, in \u001B[0;36mget_template\u001B[0;34m(name)\u001B[0m\n\u001B[1;32m     25\u001B[0m \u001B[38;5;28;01mdef\u001B[39;00m \u001B[38;5;21mget_template\u001B[39m(name: \u001B[38;5;28mstr\u001B[39m):\n\u001B[0;32m---> 26\u001B[0m     \u001B[38;5;28;01mraise\u001B[39;00m \u001B[38;5;167;01mImportError\u001B[39;00m(msg) \u001B[38;5;28;01mfrom\u001B[39;00m \u001B[38;5;21;01mexception\u001B[39;00m\n",
      "\u001B[0;31mImportError\u001B[0m: Dask diagnostics requirements are not installed.\n\nPlease either conda or pip install as follows:\n\n  conda install dask                     # either conda install\n  python -m pip install \"dask[diagnostics]\" --upgrade  # or python -m pip install"
     ]
    },
    {
     "data": {
      "text/plain": [
       "<xarray.Dataset> Size: 81GB\n",
       "Dimensions:                                           (time: 92044,\n",
       "                                                       longitude: 64,\n",
       "                                                       latitude: 32, level: 13)\n",
       "Coordinates:\n",
       "  * latitude                                          (latitude) float64 256B ...\n",
       "  * level                                             (level) int64 104B 50 ....\n",
       "  * longitude                                         (longitude) float64 512B ...\n",
       "  * time                                              (time) datetime64[ns] 736kB ...\n",
       "Data variables: (12/38)\n",
       "    10m_u_component_of_wind                           (time, longitude, latitude) float32 754MB dask.array<chunksize=(100, 64, 32), meta=np.ndarray>\n",
       "    10m_v_component_of_wind                           (time, longitude, latitude) float32 754MB dask.array<chunksize=(100, 64, 32), meta=np.ndarray>\n",
       "    10m_wind_speed                                    (time, longitude, latitude) float32 754MB dask.array<chunksize=(100, 64, 32), meta=np.ndarray>\n",
       "    2m_temperature                                    (time, longitude, latitude) float32 754MB dask.array<chunksize=(100, 64, 32), meta=np.ndarray>\n",
       "    angle_of_sub_gridscale_orography                  (longitude, latitude) float32 8kB dask.array<chunksize=(64, 32), meta=np.ndarray>\n",
       "    anisotropy_of_sub_gridscale_orography             (longitude, latitude) float32 8kB dask.array<chunksize=(64, 32), meta=np.ndarray>\n",
       "    ...                                                ...\n",
       "    type_of_high_vegetation                           (longitude, latitude) float32 8kB dask.array<chunksize=(64, 32), meta=np.ndarray>\n",
       "    type_of_low_vegetation                            (longitude, latitude) float32 8kB dask.array<chunksize=(64, 32), meta=np.ndarray>\n",
       "    u_component_of_wind                               (time, level, longitude, latitude) float32 10GB dask.array<chunksize=(100, 13, 64, 32), meta=np.ndarray>\n",
       "    v_component_of_wind                               (time, level, longitude, latitude) float32 10GB dask.array<chunksize=(100, 13, 64, 32), meta=np.ndarray>\n",
       "    vertical_velocity                                 (time, level, longitude, latitude) float32 10GB dask.array<chunksize=(100, 13, 64, 32), meta=np.ndarray>\n",
       "    wind_speed                                        (time, level, longitude, latitude) float32 10GB dask.array<chunksize=(100, 13, 64, 32), meta=np.ndarray>"
      ]
     },
     "execution_count": 16,
     "metadata": {},
     "output_type": "execute_result"
    }
   ],
   "source": [
    "\n",
    "# Define the path to the Zarr file\n",
    "file_path = \"Masters-Thesis/ERA5_data/1959-2022-6h-64x32_equiangular_conservative.zarr\"\n",
    "\n",
    "# Open the Zarr file using xarray\n",
    "obs_data = xr.open_zarr(absolute_path)\n",
    "obs_data\n"
   ]
  },
  {
   "cell_type": "code",
   "execution_count": null,
   "id": "e6cbb314-2b09-4909-b625-32cf94bdd8ac",
   "metadata": {},
   "outputs": [],
   "source": [
    "# prune dataset of unnecessary variables.\n",
    "for x in obs_data:\n",
    "    if x not in ['longitude', 'latitude', 'time', 't2m', 'msl', 'u10', 'v10']:\n",
    "        obs_data = obs_data.drop_vars(x)\n",
    "\n",
    "obs_data"
   ]
  },
  {
   "cell_type": "code",
   "outputs": [],
   "source": [
    "#rename obs data:\n",
    "obs_data = obs_data.rename({'longitude': 'lon'})\n",
    "obs_data = obs_data.rename({'latitude': 'lat'})\n",
    "\n",
    "# add datetime coord:\n",
    "copied_coord = obs_data['time'].copy()\n",
    "# Rename the copied coordinate to the new name\n",
    "obs_data = obs_data.assign_coords(datetime=copied_coord)\n",
    "\n",
    "# add batch dim:\n",
    "obs_data = obs_data.expand_dims('batch')"
   ],
   "metadata": {
    "collapsed": false
   },
   "id": "1cf09af9a1c3051"
  }
 ],
 "metadata": {
  "kernelspec": {
   "display_name": "MTLMenv",
   "language": "python",
   "name": "mtlmenv"
  },
  "language_info": {
   "codemirror_mode": {
    "name": "ipython",
    "version": 3
   },
   "file_extension": ".py",
   "mimetype": "text/x-python",
   "name": "python",
   "nbconvert_exporter": "python",
   "pygments_lexer": "ipython3",
   "version": "3.12.3"
  }
 },
 "nbformat": 4,
 "nbformat_minor": 5
}
