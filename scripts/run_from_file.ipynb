{
 "cells": [
  {
   "cell_type": "markdown",
   "id": "65f93b9a-0332-4ac2-86ec-72844274d650",
   "metadata": {},
   "source": [
    "# run a model from file\n",
    "This script is used to run a 10 day forecast for the whole of 2020 using saved model parameters from a file."
   ]
  },
  {
   "cell_type": "markdown",
   "id": "832e2fc8-53c6-431b-a5ab-d001b1f7e79b",
   "metadata": {},
   "source": [
    "## load model from file"
   ]
  },
  {
   "cell_type": "code",
   "execution_count": null,
   "id": "4284205c-234f-4465-bd57-0fee1c655f04",
   "metadata": {},
   "outputs": [],
   "source": [
    "# load model params:"
   ]
  },
  {
   "cell_type": "markdown",
   "id": "9ffae8c5-890b-4e6c-82d9-e87a48f02821",
   "metadata": {},
   "source": [
    "## load obs_data:"
   ]
  },
  {
   "cell_type": "code",
   "execution_count": null,
   "id": "fa89cdc3-f5b0-41e1-b0b4-f2f77c075bbb",
   "metadata": {},
   "outputs": [],
   "source": [
    "# load obs data:"
   ]
  },
  {
   "cell_type": "code",
   "execution_count": null,
   "id": "765a8d2e-98e1-473d-be68-130975378e39",
   "metadata": {},
   "outputs": [],
   "source": [
    "# get eval data from obs data:"
   ]
  },
  {
   "cell_type": "markdown",
   "id": "4342e72e-a79a-4c59-b764-6323708c7d0a",
   "metadata": {},
   "source": [
    "## build functions"
   ]
  },
  {
   "cell_type": "code",
   "execution_count": null,
   "id": "670532c2-efc3-41c2-a9f5-5ed339a2cfd2",
   "metadata": {},
   "outputs": [],
   "source": [
    "eval_inputs, eval_targets, eval_forcings = data_utils.extract_inputs_targets_forcings(\n",
    "    eval_data, target_lead_times=slice(\"6h\", f\"{eval_steps*6}h\"),\n",
    "    **dataclasses.asdict(task_config))"
   ]
  },
  {
   "cell_type": "code",
   "execution_count": null,
   "id": "4c1432d7-771e-4f93-930e-be4e0146b414",
   "metadata": {},
   "outputs": [],
   "source": [
    "# build functions + jit:"
   ]
  },
  {
   "cell_type": "markdown",
   "id": "d13cdf29-0c0d-4eb5-ae4a-4e616755b084",
   "metadata": {},
   "source": [
    "## run model\n"
   ]
  },
  {
   "cell_type": "code",
   "execution_count": null,
   "id": "c1131584-e2ab-488f-a2a6-dcd60f96001c",
   "metadata": {},
   "outputs": [],
   "source": [
    "# @title Autoregressive rollout (loop in python)\n",
    "\n",
    "print(\"Inputs:  \", eval_inputs.dims.mapping)\n",
    "print(\"Targets: \", eval_targets.dims.mapping)\n",
    "print(\"Forcings:\", eval_forcings.dims.mapping)\n",
    "\n",
    "predictions = rollout.chunked_prediction(\n",
    "    run_forward_jitted,\n",
    "    rng=jax.random.PRNGKey(0),\n",
    "    inputs=eval_inputs,\n",
    "    targets_template=eval_targets * np.nan,\n",
    "    forcings=eval_forcings)\n",
    "predictions"
   ]
  },
  {
   "cell_type": "code",
   "execution_count": null,
   "id": "830798ae-cdfc-4722-a2b8-2a1ffdefef29",
   "metadata": {},
   "outputs": [],
   "source": [
    "# loop:\n",
    "N = eval_data.sizes['time'] - eval_steps - 4\n",
    "# Open a zarr store to write predictions to disk\n",
    "store = xr.backends.ZarrStore(\"../preds/predictions.zarr\", \"w\")\n",
    "\n",
    "for i in range(10):\n",
    "    eval_batch = eval_data.isel(time=slice(i, i + eval_steps + 2))\n",
    "    eval_batch = eval_batch.compute()\n",
    "\n",
    "    eval_inputs, eval_targets, eval_forcings = data_utils.extract_inputs_targets_forcings(\n",
    "    eval_batch, target_lead_times=slice(\"6h\", f\"{eval_steps*6}h\"),\n",
    "    **dataclasses.asdict(task_config))\n",
    "\n",
    "    predictions = rollout.chunked_prediction(\n",
    "        run_forward_jitted,\n",
    "        rng=jax.random.PRNGKey(0),\n",
    "        inputs=eval_inputs,\n",
    "        targets_template=eval_targets * np.nan,\n",
    "        forcings=eval_forcings)\n",
    "    # Write the prediction dataset to the zarr store\n",
    "    predictions.to_zarr(store, group=f\"prediction_time_step_{prediction_time_step}\", mode=\"a\")\n",
    "\n",
    "# Close the zarr store\n",
    "store.close()"
   ]
  },
  {
   "cell_type": "code",
   "execution_count": null,
   "id": "142fdcdc-01f1-4da0-a5f8-faf2f0d5f18d",
   "metadata": {},
   "outputs": [],
   "source": [
    "# Read the predictions back into memory and concatenate them along the 'pred_times' dimension\n",
    "predictions = xr.open_zarr(\"../preds/predictions.zarr\", concat_dim=\"prediction_time_step\")\n",
    "predictions"
   ]
  },
  {
   "cell_type": "code",
   "execution_count": null,
   "id": "a30d6cc7-9eac-4403-86bd-e4415451acf3",
   "metadata": {},
   "outputs": [],
   "source": [
    "# Specify the path where you want to save the Zarr file\n",
    "zarr_path = \"Eval_preds/mse_64x32_2020.zarr\"\n",
    "\n",
    "# Save the dataset to the Zarr file\n",
    "predictions.to_zarr(zarr_path, mode='w')"
   ]
  }
 ],
 "metadata": {
  "kernelspec": {
   "display_name": "MTLMenv",
   "language": "python",
   "name": "mtlmenv"
  },
  "language_info": {
   "codemirror_mode": {
    "name": "ipython",
    "version": 3
   },
   "file_extension": ".py",
   "mimetype": "text/x-python",
   "name": "python",
   "nbconvert_exporter": "python",
   "pygments_lexer": "ipython3",
   "version": "3.12.3"
  }
 },
 "nbformat": 4,
 "nbformat_minor": 5
}
