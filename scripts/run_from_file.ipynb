{
 "cells": [
  {
   "cell_type": "markdown",
   "id": "65f93b9a-0332-4ac2-86ec-72844274d650",
   "metadata": {},
   "source": [
    "# run a model from file\n",
    "This script is used to run a 10 day forecast for the whole of 2020 using saved model parameters from a file."
   ]
  },
  {
   "cell_type": "code",
   "execution_count": null,
   "id": "98a7f459-f5ef-4611-9a23-32824ac04774",
   "metadata": {},
   "outputs": [],
   "source": []
  }
 ],
 "metadata": {
  "kernelspec": {
   "display_name": "MTLMenv",
   "language": "python",
   "name": "mtlmenv"
  },
  "language_info": {
   "codemirror_mode": {
    "name": "ipython",
    "version": 3
   },
   "file_extension": ".py",
   "mimetype": "text/x-python",
   "name": "python",
   "nbconvert_exporter": "python",
   "pygments_lexer": "ipython3",
   "version": "3.12.3"
  }
 },
 "nbformat": 4,
 "nbformat_minor": 5
}
