{
 "cells": [
  {
   "cell_type": "markdown",
   "id": "9ad5ab47-4640-4a45-97a7-d78f23c46c06",
   "metadata": {},
   "source": [
    "# Master's thesis - Lukas Meuris - graphCast evaluation\n",
    "\n",
    "This notebook contains the code to plot results of the models. "
   ]
  },
  {
   "cell_type": "code",
   "execution_count": null,
   "id": "ef20cc68-cdc4-4903-97db-178fa74556d0",
   "metadata": {},
   "outputs": [],
   "source": [
    "import sys\n",
    "sys.path.append(\"../\")\n",
    "\n",
    "import numpy as np\n",
    "import pandas as pd\n",
    "import xarray as xr\n",
    "import cartopy.crs as ccrs\n",
    "\n",
    "import optax\n",
    "\n",
    "import os\n",
    "import time\n",
    "os.environ['CUDA_VISIBLE_DEVICES'] = '0,1'\n",
    "\n",
    "import weatherbench2\n",
    "from weatherbench2 import config\n",
    "\n",
    "import matplotlib.pyplot as plt"
   ]
  },
  {
   "cell_type": "markdown",
   "id": "758900c6-30b5-46bc-b017-17918d869571",
   "metadata": {
    "collapsed": false,
    "jupyter": {
     "outputs_hidden": false
    }
   },
   "source": [
    "# Deterministic results\n",
    "following code is used to get deterministic results (RMSE, bias, ACC, SEEPS)"
   ]
  },
  {
   "cell_type": "code",
   "execution_count": null,
   "id": "d921d3fd-ad25-4b41-8ffc-934371750bbb",
   "metadata": {},
   "outputs": [],
   "source": [
    "results_mse = xr.open_dataset('../evaluation/mse_det.nc')\n",
    "results_mae = xr.open_dataset('../evaluation/mae_det.nc')\n",
    "results_lch = xr.open_dataset('../evaluation/lch_det.nc')\n",
    "results_rse = xr.open_dataset('../evaluation/rse_det.nc')\n",
    "results_rae = xr.open_dataset('../evaluation/rae_det.nc')"
   ]
  },
  {
   "cell_type": "code",
   "execution_count": null,
   "id": "168cdf0a-55a6-4fe9-b1c5-53e0a7e5f12c",
   "metadata": {},
   "outputs": [],
   "source": [
    "results_mse"
   ]
  },
  {
   "cell_type": "code",
   "execution_count": null,
   "id": "930e35f2-e2bf-461e-ad83-e101b0e38125",
   "metadata": {},
   "outputs": [],
   "source": [
    "# add RMSE metric based on the MSE.\n",
    "results_mse = xr.concat(\n",
    "    [results_mse,\n",
    "    results_mse.sel(metric=['mse']).assign_coords(metric=['rmse']) ** 0.5],\n",
    "    dim='metric'\n",
    ")\n",
    "results_mae = xr.concat(\n",
    "    [results_mae,\n",
    "    results_mae.sel(metric=['mse']).assign_coords(metric=['rmse']) ** 0.5],\n",
    "    dim='metric'\n",
    ")\n",
    "results_lch = xr.concat(\n",
    "    [results_lch,\n",
    "    results_lch.sel(metric=['mse']).assign_coords(metric=['rmse']) ** 0.5],\n",
    "    dim='metric'\n",
    ")\n",
    "results_rse = xr.concat(\n",
    "    [results_rse,\n",
    "    results_rse.sel(metric=['mse']).assign_coords(metric=['rmse']) ** 0.5],\n",
    "    dim='metric'\n",
    ")\n",
    "results_rae = xr.concat(\n",
    "    [results_rae,\n",
    "    results_rae.sel(metric=['mse']).assign_coords(metric=['rmse']) ** 0.5],\n",
    "    dim='metric'\n",
    ")"
   ]
  },
  {
   "cell_type": "code",
   "execution_count": null,
   "id": "fb000e82-1513-4a53-a69f-af717b80dbab",
   "metadata": {},
   "outputs": [],
   "source": [
    "#convert time from ns to days.\n",
    "results_mse['lead_time'] = results_mse['lead_time'].astype('timedelta64[ns]') / pd.Timedelta(days=1)\n",
    "results_mae['lead_time'] = results_mae['lead_time'].astype('timedelta64[ns]') / pd.Timedelta(days=1)\n",
    "results_lch['lead_time'] = results_lch['lead_time'].astype('timedelta64[ns]') / pd.Timedelta(days=1)\n",
    "results_rse['lead_time'] = results_rse['lead_time'].astype('timedelta64[ns]') / pd.Timedelta(days=1)\n",
    "results_rae['lead_time'] = results_rae['lead_time'].astype('timedelta64[ns]') / pd.Timedelta(days=1)"
   ]
  },
  {
   "cell_type": "code",
   "execution_count": null,
   "id": "2051eb4f-2a61-4c86-bbe2-6e521e8e206c",
   "metadata": {},
   "outputs": [],
   "source": [
    "# remove initial time from results.\n",
    "results_mse = results_mse.isel(lead_time=slice(1,41))\n",
    "results_mae = results_mae.isel(lead_time=slice(1,41))\n",
    "results_lch = results_lch.isel(lead_time=slice(1,41))\n",
    "results_rse = results_rse.isel(lead_time=slice(1,41))\n",
    "results_rae = results_rae.isel(lead_time=slice(1,41))"
   ]
  },
  {
   "cell_type": "code",
   "execution_count": null,
   "id": "bd2e9012-c4ef-413b-9c6b-aa8fc13504b7",
   "metadata": {},
   "outputs": [],
   "source": [
    "#plot results\n",
    "for region in results_mse['region'].values:\n",
    "    plt.figure()\n",
    "    var = '10m_v_component_of_wind'\n",
    "    metric = 'acc'\n",
    "    title = 'V10M'\n",
    "    units = \"[m/s]\"\n",
    "\n",
    "    results_mse[var].sel(metric=metric, region=region).plot(label='MSE', color='blue')\n",
    "    results_mae[var].sel(metric=metric, region=region).plot(label='MAE', color='red')\n",
    "    results_lch[var].sel(metric=metric, region=region).plot(label='Log-cosh', color='green')\n",
    "    results_rse[var].sel(metric=metric, region=region).plot(label='RSE', color='purple')\n",
    "    results_rae[var].sel(metric=metric, region=region).plot(label='RAE', color='orange')\n",
    "\n",
    "    # Add legend, title and labels\n",
    "    if title == 'T2M':\n",
    "        plt.legend(fontsize=15)\n",
    "    plt.title(title)\n",
    "    plt.ylabel(\"ACC\")\n",
    "    #plt.axhline(y=0, color='grey', linestyle='-')\n",
    "    plt.xlabel(\"Lead time (days)\")\n",
    "\n",
    "    #save plot to file\n",
    "    plt.savefig('../plots/ACC/' + region + '_' + title + '.png', dpi=300, bbox_inches='tight')\n",
    "    \n",
    "    # Show the plot\n",
    "    plt.show()\n"
   ]
  },
  {
   "cell_type": "markdown",
   "id": "78aa22ff-e021-4cbc-a0dd-8f12c8a3406a",
   "metadata": {},
   "source": [
    "# spatial results\n",
    "spatial results show the results by lon x lat on a world map"
   ]
  },
  {
   "cell_type": "markdown",
   "id": "aaf4cf9b-492a-4a52-8ae4-be810197c120",
   "metadata": {},
   "source": [
    "## Prediction\n",
    "show one 10 day forecast for 2020-01-01"
   ]
  },
  {
   "cell_type": "code",
   "execution_count": null,
   "id": "858ff0fe-96cb-4bbf-9bea-d0f0db17b7c5",
   "metadata": {},
   "outputs": [],
   "source": [
    "# show predictions for 2020-01-01:\n",
    "relative_path = \"predictions/pred_64x32_2020_rae_eval.zarr\"\n",
    "pred_path = os.path.join(os.path.dirname(os.getcwd()), relative_path)\n",
    "pred_data = xr.open_zarr(pred_path)\n",
    "pred_data = pred_data.isel(time=0).compute()"
   ]
  },
  {
   "cell_type": "code",
   "execution_count": null,
   "id": "8c3ca476-04fa-431a-93cc-441174d80793",
   "metadata": {},
   "outputs": [],
   "source": [
    "plt.figure()\n",
    "g = pred_data['total_precipitation_6hr'].isel(prediction_timedelta=[12,20,40]).plot(x='longitude',\n",
    "                                                                           y='latitude',\n",
    "                                                                           col=\"prediction_timedelta\",\n",
    "                                                                           col_wrap=3,\n",
    "                                                                           robust=True,\n",
    "                                                                           subplot_kws={'projection': ccrs.PlateCarree()},\n",
    "                                                                           aspect=1.5)\n",
    "title = 'RAE_T2M'\n",
    "# Manually set titles for each subplot\n",
    "subtitles = ['3 days', '5 days', '10 days']\n",
    "for ax, subtitle in zip(g.axs.flat, subtitles):\n",
    "    ax.set_title(subtitle)\n",
    "    ax.coastlines()\n",
    "\n",
    "plt.suptitle(title, fontsize=16, x=0.4, y=1)\n",
    "#plt.savefig('../plots/Predictions/' + title + '.png', dpi=300, bbox_inches='tight')\n",
    "plt.show()"
   ]
  },
  {
   "cell_type": "markdown",
   "id": "f078f313-3909-427c-aa46-4ac476c4613a",
   "metadata": {},
   "source": [
    "## bias map\n",
    "show the bias maps for 2020"
   ]
  },
  {
   "cell_type": "code",
   "execution_count": null,
   "id": "b4f31eb9-4b12-4d45-ab2f-58be9c1f7263",
   "metadata": {},
   "outputs": [],
   "source": [
    "results = xr.open_dataset('../evaluation/mse_spatial.nc')"
   ]
  },
  {
   "cell_type": "code",
   "execution_count": null,
   "id": "76c24050-9f10-4ee1-adb9-169db95e5836",
   "metadata": {},
   "outputs": [],
   "source": [
    "datasets = ['mse','mae','rse','rae']\n",
    "for dataset in datasets:\n",
    "    plt.figure()\n",
    "    var = '10m_u_component_of_wind'\n",
    "    title = 'U10M'\n",
    "    units = \" [m/s]\"\n",
    "    level = 700\n",
    "\n",
    "    lead_times = [np.timedelta64(3, 'D'),np.timedelta64(5, 'D'),np.timedelta64(10, 'D')]\n",
    "\n",
    "    results = xr.open_dataset('../evaluation/' + dataset + '_spatial.nc')\n",
    "    g = results[var].sel(metric='bias', lead_time=lead_times).plot(x='longitude',y='latitude',\n",
    "                                                               col=\"lead_time\", robust=True, \n",
    "                                                               cbar_kwargs={\"label\": var + units},\n",
    "                                                               subplot_kws={'projection': ccrs.PlateCarree()},\n",
    "                                                               aspect=1.5, cmap= 'coolwarm',\n",
    "                                                               vmin=-3,vmax=3)\n",
    "    \n",
    "    # Manually set titles for each subplot\n",
    "    subtitles = ['3 days', '5 days', '10 days']\n",
    "    for ax, subtitle in zip(g.axs.flat, subtitles):\n",
    "        ax.set_title(subtitle)\n",
    "        ax.coastlines()\n",
    "\n",
    "    title = title + ' ' + dataset.upper()\n",
    "    plt.suptitle(title, fontsize=16, x=0.4, y=1)\n",
    "    plt.savefig('../plots/Bias_maps/' + title + '.png', dpi=300, bbox_inches='tight')\n",
    "    plt.show()\n"
   ]
  },
  {
   "cell_type": "code",
   "execution_count": null,
   "id": "3330450d-9548-467c-a09f-6f6c0aff38d2",
   "metadata": {},
   "outputs": [],
   "source": [
    "\n",
    "plt.figure()\n",
    "var = '10m_v_component_of_wind'\n",
    "title = 'V10M'\n",
    "units = \" [m/s]\"\n",
    "level = 700\n",
    "\n",
    "lead_times = [np.timedelta64(3, 'D'),np.timedelta64(5, 'D'),np.timedelta64(10, 'D')]\n",
    "\n",
    "results = xr.open_dataset('../evaluation/lch_spatial.nc')\n",
    "g = results[var].sel(metric='bias', lead_time=lead_times).plot(x='longitude',y='latitude',\n",
    "                                                               col=\"lead_time\", robust=True, \n",
    "                                                               cbar_kwargs={\"label\": var + units},\n",
    "                                                               subplot_kws={'projection': ccrs.PlateCarree()},\n",
    "                                                               aspect=1.5, cmap= 'coolwarm',\n",
    "                                                               vmin=-3,vmax=3)\n",
    "    \n",
    "# Manually set titles for each subplot\n",
    "subtitles = ['3 days', '5 days', '10 days']\n",
    "for ax, subtitle in zip(g.axs.flat, subtitles):\n",
    "    ax.set_title(subtitle)\n",
    "    ax.coastlines()\n",
    "\n",
    "title = title + ' ' + 'log-cosh'\n",
    "plt.suptitle(title, fontsize=16, x=0.4, y=1)\n",
    "plt.savefig('../plots/Bias_maps/' + title + '.png', dpi=300, bbox_inches='tight')\n",
    "plt.show()\n"
   ]
  },
  {
   "cell_type": "code",
   "execution_count": null,
   "id": "c9536690-dbde-4271-a8df-b3fec6b0bdd4",
   "metadata": {},
   "outputs": [],
   "source": []
  }
 ],
 "metadata": {
  "kernelspec": {
   "display_name": "MTLMenv",
   "language": "python",
   "name": "mtlmenv"
  },
  "language_info": {
   "codemirror_mode": {
    "name": "ipython",
    "version": 3
   },
   "file_extension": ".py",
   "mimetype": "text/x-python",
   "name": "python",
   "nbconvert_exporter": "python",
   "pygments_lexer": "ipython3",
   "version": "3.12.3"
  }
 },
 "nbformat": 4,
 "nbformat_minor": 5
}
